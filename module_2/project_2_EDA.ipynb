{
 "cells": [
  {
   "cell_type": "code",
   "execution_count": null,
   "metadata": {},
   "outputs": [],
   "source": [
    "Итоговое задание по Проекту 2 - Разведывательный анализ данных\n",
    "\n",
    "Я приглашен поучаствовать в одном из проектов UNICEF — международного подразделения ООН, чья миссия состоит в\n",
    "повышении уровня благополучия детей по всему миру. \n",
    "\n",
    "Суть проекта — отследить влияние условий жизни учащихся в возрасте от 15 до 22 лет на их успеваемость по математике,\n",
    "чтобы на ранней стадии выявлять студентов, находящихся в группе риска.\n",
    "\n",
    "И сделать это можно с помощью модели, которая предсказывала бы результаты госэкзамена по математике для каждого \n",
    "ученика школы. \n",
    "\n",
    "Чтобы определиться с параметрами будущей модели, необходимр провести разведывательный анализ данных и составить \n",
    "отчёт по его результатам. "
   ]
  },
  {
   "cell_type": "code",
   "execution_count": null,
   "metadata": {},
   "outputs": [],
   "source": [
    "План выполнения проекта\n",
    "\n",
    "1. Провести первичную обработку данных. Предусмотреть возможное использование собственных функции для применения \n",
    "к столбцам определённого типа.\n",
    "2. Обратить внимание на распределение признака для числовых переменных, устраните выбросы.\n",
    "3. Оценить количество уникальных значений для номинативных переменных.\n",
    "4. При необходимости преобразовать данные\n",
    "5. Провести корреляционный анализ количественных переменных\n",
    "6. Отобрать не коррелирующие переменные.\n",
    "7. Проанализировать номинативные переменные и устранить те, которые не влияют на предсказываемую величину \n",
    "(в нашем случае — на переменную score).\n",
    "8. Сформулировать выводы относительно качества данных и тех переменных, которые будут использованы в дальнейшем \n",
    "построении модели."
   ]
  },
  {
   "cell_type": "code",
   "execution_count": null,
   "metadata": {},
   "outputs": [],
   "source": [
    "Далее выполняю пункты с 1 по 4:\n",
    "Импортирую необходимые библиотеки и читаю рабочий датасет:"
   ]
  },
  {
   "cell_type": "code",
   "execution_count": 127,
   "metadata": {},
   "outputs": [
    {
     "data": {
      "text/html": [
       "<div>\n",
       "<style scoped>\n",
       "    .dataframe tbody tr th:only-of-type {\n",
       "        vertical-align: middle;\n",
       "    }\n",
       "\n",
       "    .dataframe tbody tr th {\n",
       "        vertical-align: top;\n",
       "    }\n",
       "\n",
       "    .dataframe thead th {\n",
       "        text-align: right;\n",
       "    }\n",
       "</style>\n",
       "<table border=\"1\" class=\"dataframe\">\n",
       "  <thead>\n",
       "    <tr style=\"text-align: right;\">\n",
       "      <th></th>\n",
       "      <th>school</th>\n",
       "      <th>sex</th>\n",
       "      <th>age</th>\n",
       "      <th>address</th>\n",
       "      <th>famsize</th>\n",
       "      <th>Pstatus</th>\n",
       "      <th>Medu</th>\n",
       "      <th>Fedu</th>\n",
       "      <th>Mjob</th>\n",
       "      <th>Fjob</th>\n",
       "      <th>reason</th>\n",
       "      <th>guardian</th>\n",
       "      <th>traveltime</th>\n",
       "      <th>studytime</th>\n",
       "      <th>failures</th>\n",
       "      <th>schoolsup</th>\n",
       "      <th>famsup</th>\n",
       "      <th>paid</th>\n",
       "      <th>activities</th>\n",
       "      <th>nursery</th>\n",
       "      <th>studytime, granular</th>\n",
       "      <th>higher</th>\n",
       "      <th>internet</th>\n",
       "      <th>romantic</th>\n",
       "      <th>famrel</th>\n",
       "      <th>freetime</th>\n",
       "      <th>goout</th>\n",
       "      <th>health</th>\n",
       "      <th>absences</th>\n",
       "      <th>score</th>\n",
       "    </tr>\n",
       "  </thead>\n",
       "  <tbody>\n",
       "    <tr>\n",
       "      <th>0</th>\n",
       "      <td>GP</td>\n",
       "      <td>F</td>\n",
       "      <td>18</td>\n",
       "      <td>U</td>\n",
       "      <td>NaN</td>\n",
       "      <td>A</td>\n",
       "      <td>4.0</td>\n",
       "      <td>4.0</td>\n",
       "      <td>at_home</td>\n",
       "      <td>teacher</td>\n",
       "      <td>course</td>\n",
       "      <td>mother</td>\n",
       "      <td>2.0</td>\n",
       "      <td>2.0</td>\n",
       "      <td>0.0</td>\n",
       "      <td>yes</td>\n",
       "      <td>no</td>\n",
       "      <td>no</td>\n",
       "      <td>no</td>\n",
       "      <td>yes</td>\n",
       "      <td>-6.0</td>\n",
       "      <td>yes</td>\n",
       "      <td>NaN</td>\n",
       "      <td>no</td>\n",
       "      <td>4.0</td>\n",
       "      <td>3.0</td>\n",
       "      <td>4.0</td>\n",
       "      <td>3.0</td>\n",
       "      <td>6.0</td>\n",
       "      <td>30.0</td>\n",
       "    </tr>\n",
       "    <tr>\n",
       "      <th>1</th>\n",
       "      <td>GP</td>\n",
       "      <td>F</td>\n",
       "      <td>17</td>\n",
       "      <td>U</td>\n",
       "      <td>GT3</td>\n",
       "      <td>NaN</td>\n",
       "      <td>1.0</td>\n",
       "      <td>1.0</td>\n",
       "      <td>at_home</td>\n",
       "      <td>other</td>\n",
       "      <td>course</td>\n",
       "      <td>father</td>\n",
       "      <td>1.0</td>\n",
       "      <td>2.0</td>\n",
       "      <td>0.0</td>\n",
       "      <td>no</td>\n",
       "      <td>yes</td>\n",
       "      <td>no</td>\n",
       "      <td>no</td>\n",
       "      <td>no</td>\n",
       "      <td>-6.0</td>\n",
       "      <td>yes</td>\n",
       "      <td>yes</td>\n",
       "      <td>no</td>\n",
       "      <td>5.0</td>\n",
       "      <td>3.0</td>\n",
       "      <td>3.0</td>\n",
       "      <td>3.0</td>\n",
       "      <td>4.0</td>\n",
       "      <td>30.0</td>\n",
       "    </tr>\n",
       "    <tr>\n",
       "      <th>2</th>\n",
       "      <td>GP</td>\n",
       "      <td>F</td>\n",
       "      <td>15</td>\n",
       "      <td>U</td>\n",
       "      <td>LE3</td>\n",
       "      <td>T</td>\n",
       "      <td>1.0</td>\n",
       "      <td>1.0</td>\n",
       "      <td>at_home</td>\n",
       "      <td>other</td>\n",
       "      <td>other</td>\n",
       "      <td>mother</td>\n",
       "      <td>1.0</td>\n",
       "      <td>2.0</td>\n",
       "      <td>3.0</td>\n",
       "      <td>yes</td>\n",
       "      <td>no</td>\n",
       "      <td>NaN</td>\n",
       "      <td>no</td>\n",
       "      <td>yes</td>\n",
       "      <td>-6.0</td>\n",
       "      <td>yes</td>\n",
       "      <td>yes</td>\n",
       "      <td>NaN</td>\n",
       "      <td>4.0</td>\n",
       "      <td>3.0</td>\n",
       "      <td>2.0</td>\n",
       "      <td>3.0</td>\n",
       "      <td>10.0</td>\n",
       "      <td>50.0</td>\n",
       "    </tr>\n",
       "    <tr>\n",
       "      <th>3</th>\n",
       "      <td>GP</td>\n",
       "      <td>F</td>\n",
       "      <td>15</td>\n",
       "      <td>U</td>\n",
       "      <td>GT3</td>\n",
       "      <td>T</td>\n",
       "      <td>4.0</td>\n",
       "      <td>2.0</td>\n",
       "      <td>health</td>\n",
       "      <td>NaN</td>\n",
       "      <td>home</td>\n",
       "      <td>mother</td>\n",
       "      <td>1.0</td>\n",
       "      <td>3.0</td>\n",
       "      <td>0.0</td>\n",
       "      <td>no</td>\n",
       "      <td>yes</td>\n",
       "      <td>yes</td>\n",
       "      <td>yes</td>\n",
       "      <td>yes</td>\n",
       "      <td>-9.0</td>\n",
       "      <td>yes</td>\n",
       "      <td>yes</td>\n",
       "      <td>yes</td>\n",
       "      <td>3.0</td>\n",
       "      <td>2.0</td>\n",
       "      <td>2.0</td>\n",
       "      <td>5.0</td>\n",
       "      <td>2.0</td>\n",
       "      <td>75.0</td>\n",
       "    </tr>\n",
       "    <tr>\n",
       "      <th>4</th>\n",
       "      <td>GP</td>\n",
       "      <td>F</td>\n",
       "      <td>16</td>\n",
       "      <td>U</td>\n",
       "      <td>GT3</td>\n",
       "      <td>T</td>\n",
       "      <td>3.0</td>\n",
       "      <td>3.0</td>\n",
       "      <td>other</td>\n",
       "      <td>other</td>\n",
       "      <td>home</td>\n",
       "      <td>father</td>\n",
       "      <td>1.0</td>\n",
       "      <td>2.0</td>\n",
       "      <td>0.0</td>\n",
       "      <td>no</td>\n",
       "      <td>yes</td>\n",
       "      <td>yes</td>\n",
       "      <td>no</td>\n",
       "      <td>yes</td>\n",
       "      <td>-6.0</td>\n",
       "      <td>yes</td>\n",
       "      <td>no</td>\n",
       "      <td>no</td>\n",
       "      <td>4.0</td>\n",
       "      <td>3.0</td>\n",
       "      <td>2.0</td>\n",
       "      <td>5.0</td>\n",
       "      <td>4.0</td>\n",
       "      <td>50.0</td>\n",
       "    </tr>\n",
       "    <tr>\n",
       "      <th>5</th>\n",
       "      <td>GP</td>\n",
       "      <td>M</td>\n",
       "      <td>16</td>\n",
       "      <td>U</td>\n",
       "      <td>LE3</td>\n",
       "      <td>T</td>\n",
       "      <td>4.0</td>\n",
       "      <td>3.0</td>\n",
       "      <td>services</td>\n",
       "      <td>other</td>\n",
       "      <td>reputation</td>\n",
       "      <td>mother</td>\n",
       "      <td>1.0</td>\n",
       "      <td>2.0</td>\n",
       "      <td>0.0</td>\n",
       "      <td>no</td>\n",
       "      <td>yes</td>\n",
       "      <td>yes</td>\n",
       "      <td>yes</td>\n",
       "      <td>yes</td>\n",
       "      <td>-6.0</td>\n",
       "      <td>yes</td>\n",
       "      <td>yes</td>\n",
       "      <td>no</td>\n",
       "      <td>5.0</td>\n",
       "      <td>4.0</td>\n",
       "      <td>2.0</td>\n",
       "      <td>5.0</td>\n",
       "      <td>10.0</td>\n",
       "      <td>75.0</td>\n",
       "    </tr>\n",
       "    <tr>\n",
       "      <th>6</th>\n",
       "      <td>GP</td>\n",
       "      <td>M</td>\n",
       "      <td>16</td>\n",
       "      <td>NaN</td>\n",
       "      <td>LE3</td>\n",
       "      <td>T</td>\n",
       "      <td>2.0</td>\n",
       "      <td>2.0</td>\n",
       "      <td>other</td>\n",
       "      <td>other</td>\n",
       "      <td>home</td>\n",
       "      <td>mother</td>\n",
       "      <td>1.0</td>\n",
       "      <td>2.0</td>\n",
       "      <td>0.0</td>\n",
       "      <td>no</td>\n",
       "      <td>no</td>\n",
       "      <td>no</td>\n",
       "      <td>no</td>\n",
       "      <td>yes</td>\n",
       "      <td>-6.0</td>\n",
       "      <td>yes</td>\n",
       "      <td>yes</td>\n",
       "      <td>no</td>\n",
       "      <td>4.0</td>\n",
       "      <td>4.0</td>\n",
       "      <td>4.0</td>\n",
       "      <td>3.0</td>\n",
       "      <td>0.0</td>\n",
       "      <td>55.0</td>\n",
       "    </tr>\n",
       "    <tr>\n",
       "      <th>7</th>\n",
       "      <td>GP</td>\n",
       "      <td>F</td>\n",
       "      <td>17</td>\n",
       "      <td>U</td>\n",
       "      <td>GT3</td>\n",
       "      <td>A</td>\n",
       "      <td>4.0</td>\n",
       "      <td>4.0</td>\n",
       "      <td>other</td>\n",
       "      <td>teacher</td>\n",
       "      <td>home</td>\n",
       "      <td>mother</td>\n",
       "      <td>2.0</td>\n",
       "      <td>2.0</td>\n",
       "      <td>0.0</td>\n",
       "      <td>yes</td>\n",
       "      <td>yes</td>\n",
       "      <td>no</td>\n",
       "      <td>no</td>\n",
       "      <td>yes</td>\n",
       "      <td>-6.0</td>\n",
       "      <td>yes</td>\n",
       "      <td>no</td>\n",
       "      <td>no</td>\n",
       "      <td>4.0</td>\n",
       "      <td>1.0</td>\n",
       "      <td>4.0</td>\n",
       "      <td>1.0</td>\n",
       "      <td>6.0</td>\n",
       "      <td>30.0</td>\n",
       "    </tr>\n",
       "    <tr>\n",
       "      <th>8</th>\n",
       "      <td>GP</td>\n",
       "      <td>M</td>\n",
       "      <td>15</td>\n",
       "      <td>U</td>\n",
       "      <td>LE3</td>\n",
       "      <td>A</td>\n",
       "      <td>3.0</td>\n",
       "      <td>2.0</td>\n",
       "      <td>services</td>\n",
       "      <td>other</td>\n",
       "      <td>home</td>\n",
       "      <td>mother</td>\n",
       "      <td>1.0</td>\n",
       "      <td>2.0</td>\n",
       "      <td>0.0</td>\n",
       "      <td>no</td>\n",
       "      <td>yes</td>\n",
       "      <td>yes</td>\n",
       "      <td>no</td>\n",
       "      <td>yes</td>\n",
       "      <td>-6.0</td>\n",
       "      <td>yes</td>\n",
       "      <td>yes</td>\n",
       "      <td>no</td>\n",
       "      <td>NaN</td>\n",
       "      <td>2.0</td>\n",
       "      <td>2.0</td>\n",
       "      <td>1.0</td>\n",
       "      <td>0.0</td>\n",
       "      <td>95.0</td>\n",
       "    </tr>\n",
       "    <tr>\n",
       "      <th>9</th>\n",
       "      <td>GP</td>\n",
       "      <td>M</td>\n",
       "      <td>15</td>\n",
       "      <td>U</td>\n",
       "      <td>NaN</td>\n",
       "      <td>NaN</td>\n",
       "      <td>3.0</td>\n",
       "      <td>4.0</td>\n",
       "      <td>other</td>\n",
       "      <td>other</td>\n",
       "      <td>home</td>\n",
       "      <td>mother</td>\n",
       "      <td>1.0</td>\n",
       "      <td>2.0</td>\n",
       "      <td>0.0</td>\n",
       "      <td>no</td>\n",
       "      <td>yes</td>\n",
       "      <td>yes</td>\n",
       "      <td>yes</td>\n",
       "      <td>yes</td>\n",
       "      <td>-6.0</td>\n",
       "      <td>yes</td>\n",
       "      <td>yes</td>\n",
       "      <td>no</td>\n",
       "      <td>5.0</td>\n",
       "      <td>5.0</td>\n",
       "      <td>1.0</td>\n",
       "      <td>5.0</td>\n",
       "      <td>0.0</td>\n",
       "      <td>75.0</td>\n",
       "    </tr>\n",
       "  </tbody>\n",
       "</table>\n",
       "</div>"
      ],
      "text/plain": [
       "  school sex  age address famsize Pstatus  Medu  Fedu      Mjob     Fjob  \\\n",
       "0     GP   F   18       U     NaN       A   4.0   4.0   at_home  teacher   \n",
       "1     GP   F   17       U     GT3     NaN   1.0   1.0   at_home    other   \n",
       "2     GP   F   15       U     LE3       T   1.0   1.0   at_home    other   \n",
       "3     GP   F   15       U     GT3       T   4.0   2.0    health      NaN   \n",
       "4     GP   F   16       U     GT3       T   3.0   3.0     other    other   \n",
       "5     GP   M   16       U     LE3       T   4.0   3.0  services    other   \n",
       "6     GP   M   16     NaN     LE3       T   2.0   2.0     other    other   \n",
       "7     GP   F   17       U     GT3       A   4.0   4.0     other  teacher   \n",
       "8     GP   M   15       U     LE3       A   3.0   2.0  services    other   \n",
       "9     GP   M   15       U     NaN     NaN   3.0   4.0     other    other   \n",
       "\n",
       "       reason guardian  traveltime  studytime  failures schoolsup famsup paid  \\\n",
       "0      course   mother         2.0        2.0       0.0       yes     no   no   \n",
       "1      course   father         1.0        2.0       0.0        no    yes   no   \n",
       "2       other   mother         1.0        2.0       3.0       yes     no  NaN   \n",
       "3        home   mother         1.0        3.0       0.0        no    yes  yes   \n",
       "4        home   father         1.0        2.0       0.0        no    yes  yes   \n",
       "5  reputation   mother         1.0        2.0       0.0        no    yes  yes   \n",
       "6        home   mother         1.0        2.0       0.0        no     no   no   \n",
       "7        home   mother         2.0        2.0       0.0       yes    yes   no   \n",
       "8        home   mother         1.0        2.0       0.0        no    yes  yes   \n",
       "9        home   mother         1.0        2.0       0.0        no    yes  yes   \n",
       "\n",
       "  activities nursery  studytime, granular higher internet romantic  famrel  \\\n",
       "0         no     yes                 -6.0    yes      NaN       no     4.0   \n",
       "1         no      no                 -6.0    yes      yes       no     5.0   \n",
       "2         no     yes                 -6.0    yes      yes      NaN     4.0   \n",
       "3        yes     yes                 -9.0    yes      yes      yes     3.0   \n",
       "4         no     yes                 -6.0    yes       no       no     4.0   \n",
       "5        yes     yes                 -6.0    yes      yes       no     5.0   \n",
       "6         no     yes                 -6.0    yes      yes       no     4.0   \n",
       "7         no     yes                 -6.0    yes       no       no     4.0   \n",
       "8         no     yes                 -6.0    yes      yes       no     NaN   \n",
       "9        yes     yes                 -6.0    yes      yes       no     5.0   \n",
       "\n",
       "   freetime  goout  health  absences  score  \n",
       "0       3.0    4.0     3.0       6.0   30.0  \n",
       "1       3.0    3.0     3.0       4.0   30.0  \n",
       "2       3.0    2.0     3.0      10.0   50.0  \n",
       "3       2.0    2.0     5.0       2.0   75.0  \n",
       "4       3.0    2.0     5.0       4.0   50.0  \n",
       "5       4.0    2.0     5.0      10.0   75.0  \n",
       "6       4.0    4.0     3.0       0.0   55.0  \n",
       "7       1.0    4.0     1.0       6.0   30.0  \n",
       "8       2.0    2.0     1.0       0.0   95.0  \n",
       "9       5.0    1.0     5.0       0.0   75.0  "
      ]
     },
     "metadata": {},
     "output_type": "display_data"
    },
    {
     "name": "stdout",
     "output_type": "stream",
     "text": [
      "<class 'pandas.core.frame.DataFrame'>\n",
      "RangeIndex: 395 entries, 0 to 394\n",
      "Data columns (total 30 columns):\n",
      " #   Column               Non-Null Count  Dtype  \n",
      "---  ------               --------------  -----  \n",
      " 0   school               395 non-null    object \n",
      " 1   sex                  395 non-null    object \n",
      " 2   age                  395 non-null    int64  \n",
      " 3   address              378 non-null    object \n",
      " 4   famsize              368 non-null    object \n",
      " 5   Pstatus              350 non-null    object \n",
      " 6   Medu                 392 non-null    float64\n",
      " 7   Fedu                 371 non-null    float64\n",
      " 8   Mjob                 376 non-null    object \n",
      " 9   Fjob                 359 non-null    object \n",
      " 10  reason               378 non-null    object \n",
      " 11  guardian             364 non-null    object \n",
      " 12  traveltime           367 non-null    float64\n",
      " 13  studytime            388 non-null    float64\n",
      " 14  failures             373 non-null    float64\n",
      " 15  schoolsup            386 non-null    object \n",
      " 16  famsup               356 non-null    object \n",
      " 17  paid                 355 non-null    object \n",
      " 18  activities           381 non-null    object \n",
      " 19  nursery              379 non-null    object \n",
      " 20  studytime, granular  388 non-null    float64\n",
      " 21  higher               375 non-null    object \n",
      " 22  internet             361 non-null    object \n",
      " 23  romantic             364 non-null    object \n",
      " 24  famrel               368 non-null    float64\n",
      " 25  freetime             384 non-null    float64\n",
      " 26  goout                387 non-null    float64\n",
      " 27  health               380 non-null    float64\n",
      " 28  absences             383 non-null    float64\n",
      " 29  score                389 non-null    float64\n",
      "dtypes: float64(12), int64(1), object(17)\n",
      "memory usage: 92.7+ KB\n"
     ]
    }
   ],
   "source": [
    "import pandas as pd\n",
    "import matplotlib.pyplot as plt\n",
    "import seaborn as sns\n",
    "from itertools import combinations\n",
    "from scipy.stats import ttest_ind\n",
    "\n",
    "pd.set_option('display.max_rows', 50) # показывать больше строк\n",
    "pd.set_option('display.max_columns', 50) # показывать больше колонок\n",
    "\n",
    "stud = pd.read_csv('stud_math.csv')\n",
    "display(stud.head(10))\n",
    "stud.info()"
   ]
  },
  {
   "cell_type": "code",
   "execution_count": null,
   "metadata": {},
   "outputs": [],
   "source": [
    "Датасет содержит 30 столбцов, из которых 13 содержат числовые данные и 17 - строковые. Всего 395 строк, 27 столбцов\n",
    "из 30 содержать менее 395 записей, обнаружены пропуски (nan)!"
   ]
  },
  {
   "cell_type": "code",
   "execution_count": null,
   "metadata": {},
   "outputs": [],
   "source": [
    "Описание датасета к заданию\n",
    "\n",
    "датасет содержит следующие переменные:\n",
    "\n",
    "1 school — аббревиатура школы, в которой учится ученик\n",
    "\n",
    "2 sex — пол ученика ('F' - женский, 'M' - мужской)\n",
    "\n",
    "3 age — возраст ученика (от 15 до 22)\n",
    "\n",
    "4 address — тип адреса ученика ('U' - городской, 'R' - за городом)\n",
    "\n",
    "5 famsize — размер семьи('LE3' <= 3, 'GT3' >3)\n",
    "\n",
    "6 Pstatus — статус совместного жилья родителей ('T' - живут вместе 'A' - раздельно)\n",
    "\n",
    "7 Medu — образование матери (0 - нет, 1 - 4 класса, 2 - 5-9 классы, 3 - среднее специальное или 11 классов, \n",
    "4 - высшее)\n",
    "\n",
    "8 Fedu — образование отца (0 - нет, 1 - 4 класса, 2 - 5-9 классы, 3 - среднее специальное или 11 классов, \n",
    "4 - высшее)\n",
    "\n",
    "9 Mjob — работа матери ('teacher' - учитель, 'health' - сфера здравоохранения, 'services' - гос служба, \n",
    "'at_home' - не работает, 'other' - другое)\n",
    "\n",
    "10 Fjob — работа отца ('teacher' - учитель, 'health' - сфера здравоохранения, 'services' - гос служба, \n",
    "'at_home' - не работает, 'other' - другое)\n",
    "\n",
    "11 reason — причина выбора школы ('home' - близость к дому, 'reputation' - репутация школы, \n",
    "'course' - образовательная программа, 'other' - другое)\n",
    "\n",
    "12 guardian — опекун ('mother' - мать, 'father' - отец, 'other' - другое)\n",
    "\n",
    "13 traveltime — время в пути до школы (1 - <15 мин., 2 - 15-30 мин., 3 - 30-60 мин., 4 - >60 мин.)\n",
    "\n",
    "14 studytime — время на учёбу помимо школы в неделю (1 - <2 часов, 2 - 2-5 часов, 3 - 5-10 часов, 4 - >10 часов)\n",
    "\n",
    "15 failures — количество внеучебных неудач (n, если 1<=n<=3, иначе 0)\n",
    "\n",
    "16 schoolsup — дополнительная образовательная поддержка (yes или no)\n",
    "\n",
    "17 famsup — семейная образовательная поддержка (yes или no)\n",
    "\n",
    "18 paid — дополнительные платные занятия по математике (yes или no)\n",
    "\n",
    "19 activities — дополнительные внеучебные занятия (yes или no)\n",
    "\n",
    "20 nursery — посещал детский сад (yes или no)\n",
    "\n",
    "21 higher — хочет получить высшее образование (yes или no)\n",
    "\n",
    "22 internet — наличие интернета дома (yes или no)\n",
    "\n",
    "23 romantic — в романтических отношениях (yes или no)\n",
    "\n",
    "24 famrel — семейные отношения (от 1 - очень плохо до 5 - очень хорошо)\n",
    "\n",
    "25 freetime — свободное время после школы (от 1 - очень мало до 5 - очень мого)\n",
    "\n",
    "26 goout — проведение времени с друзьями (от 1 - очень мало до 5 - очень много)\n",
    "\n",
    "27 health — текущее состояние здоровья (от 1 - очень плохо до 5 - очень хорошо)\n",
    "\n",
    "28 absences — количество пропущенных занятий\n",
    "\n",
    "29 score — баллы по госэкзамену по математике"
   ]
  },
  {
   "cell_type": "code",
   "execution_count": 132,
   "metadata": {},
   "outputs": [
    {
     "name": "stdout",
     "output_type": "stream",
     "text": [
      "Index(['school', 'sex', 'age', 'address', 'famsize', 'Pstatus', 'Medu', 'Fedu',\n",
      "       'Mjob', 'Fjob', 'reason', 'guardian', 'traveltime', 'studytime',\n",
      "       'failures', 'schoolsup', 'famsup', 'paid', 'activities', 'nursery',\n",
      "       'studytime, granular', 'higher', 'internet', 'romantic', 'famrel',\n",
      "       'freetime', 'goout', 'health', 'absences', 'score'],\n",
      "      dtype='object')\n",
      "[ -6.  -9.  -3.  nan -12.]\n"
     ]
    },
    {
     "data": {
      "text/html": [
       "<div>\n",
       "<style scoped>\n",
       "    .dataframe tbody tr th:only-of-type {\n",
       "        vertical-align: middle;\n",
       "    }\n",
       "\n",
       "    .dataframe tbody tr th {\n",
       "        vertical-align: top;\n",
       "    }\n",
       "\n",
       "    .dataframe thead th {\n",
       "        text-align: right;\n",
       "    }\n",
       "</style>\n",
       "<table border=\"1\" class=\"dataframe\">\n",
       "  <thead>\n",
       "    <tr style=\"text-align: right;\">\n",
       "      <th></th>\n",
       "      <th>age</th>\n",
       "      <th>Medu</th>\n",
       "      <th>Fedu</th>\n",
       "      <th>traveltime</th>\n",
       "      <th>studytime</th>\n",
       "      <th>failures</th>\n",
       "      <th>studytime, granular</th>\n",
       "      <th>famrel</th>\n",
       "      <th>freetime</th>\n",
       "      <th>goout</th>\n",
       "      <th>health</th>\n",
       "      <th>absences</th>\n",
       "      <th>score</th>\n",
       "    </tr>\n",
       "  </thead>\n",
       "  <tbody>\n",
       "    <tr>\n",
       "      <th>age</th>\n",
       "      <td>1.000000</td>\n",
       "      <td>-0.161704</td>\n",
       "      <td>-0.138018</td>\n",
       "      <td>0.081508</td>\n",
       "      <td>-0.015556</td>\n",
       "      <td>0.228047</td>\n",
       "      <td>0.015556</td>\n",
       "      <td>0.068899</td>\n",
       "      <td>0.029023</td>\n",
       "      <td>0.135107</td>\n",
       "      <td>-0.065946</td>\n",
       "      <td>0.093592</td>\n",
       "      <td>-0.155726</td>\n",
       "    </tr>\n",
       "    <tr>\n",
       "      <th>Medu</th>\n",
       "      <td>-0.161704</td>\n",
       "      <td>1.000000</td>\n",
       "      <td>0.275598</td>\n",
       "      <td>-0.173515</td>\n",
       "      <td>0.078589</td>\n",
       "      <td>-0.245463</td>\n",
       "      <td>-0.078589</td>\n",
       "      <td>-0.010050</td>\n",
       "      <td>0.025335</td>\n",
       "      <td>0.064164</td>\n",
       "      <td>-0.045051</td>\n",
       "      <td>-0.011944</td>\n",
       "      <td>0.213349</td>\n",
       "    </tr>\n",
       "    <tr>\n",
       "      <th>Fedu</th>\n",
       "      <td>-0.138018</td>\n",
       "      <td>0.275598</td>\n",
       "      <td>1.000000</td>\n",
       "      <td>0.030646</td>\n",
       "      <td>0.057199</td>\n",
       "      <td>-0.150821</td>\n",
       "      <td>-0.057199</td>\n",
       "      <td>0.040577</td>\n",
       "      <td>-0.066556</td>\n",
       "      <td>-0.023282</td>\n",
       "      <td>0.027251</td>\n",
       "      <td>0.004695</td>\n",
       "      <td>0.078573</td>\n",
       "    </tr>\n",
       "    <tr>\n",
       "      <th>traveltime</th>\n",
       "      <td>0.081508</td>\n",
       "      <td>-0.173515</td>\n",
       "      <td>0.030646</td>\n",
       "      <td>1.000000</td>\n",
       "      <td>-0.102206</td>\n",
       "      <td>0.064699</td>\n",
       "      <td>0.102206</td>\n",
       "      <td>-0.016857</td>\n",
       "      <td>-0.021937</td>\n",
       "      <td>0.037636</td>\n",
       "      <td>-0.021531</td>\n",
       "      <td>-0.048215</td>\n",
       "      <td>-0.070559</td>\n",
       "    </tr>\n",
       "    <tr>\n",
       "      <th>studytime</th>\n",
       "      <td>-0.015556</td>\n",
       "      <td>0.078589</td>\n",
       "      <td>0.057199</td>\n",
       "      <td>-0.102206</td>\n",
       "      <td>1.000000</td>\n",
       "      <td>-0.178992</td>\n",
       "      <td>-1.000000</td>\n",
       "      <td>0.045894</td>\n",
       "      <td>-0.121969</td>\n",
       "      <td>-0.051280</td>\n",
       "      <td>-0.080016</td>\n",
       "      <td>-0.026544</td>\n",
       "      <td>0.115741</td>\n",
       "    </tr>\n",
       "    <tr>\n",
       "      <th>failures</th>\n",
       "      <td>0.228047</td>\n",
       "      <td>-0.245463</td>\n",
       "      <td>-0.150821</td>\n",
       "      <td>0.064699</td>\n",
       "      <td>-0.178992</td>\n",
       "      <td>1.000000</td>\n",
       "      <td>0.178992</td>\n",
       "      <td>-0.022655</td>\n",
       "      <td>0.098382</td>\n",
       "      <td>0.120914</td>\n",
       "      <td>0.081284</td>\n",
       "      <td>0.057391</td>\n",
       "      <td>-0.344338</td>\n",
       "    </tr>\n",
       "    <tr>\n",
       "      <th>studytime, granular</th>\n",
       "      <td>0.015556</td>\n",
       "      <td>-0.078589</td>\n",
       "      <td>-0.057199</td>\n",
       "      <td>0.102206</td>\n",
       "      <td>-1.000000</td>\n",
       "      <td>0.178992</td>\n",
       "      <td>1.000000</td>\n",
       "      <td>-0.045894</td>\n",
       "      <td>0.121969</td>\n",
       "      <td>0.051280</td>\n",
       "      <td>0.080016</td>\n",
       "      <td>0.026544</td>\n",
       "      <td>-0.115741</td>\n",
       "    </tr>\n",
       "    <tr>\n",
       "      <th>famrel</th>\n",
       "      <td>0.068899</td>\n",
       "      <td>-0.010050</td>\n",
       "      <td>0.040577</td>\n",
       "      <td>-0.016857</td>\n",
       "      <td>0.045894</td>\n",
       "      <td>-0.022655</td>\n",
       "      <td>-0.045894</td>\n",
       "      <td>1.000000</td>\n",
       "      <td>0.175743</td>\n",
       "      <td>0.081154</td>\n",
       "      <td>0.077474</td>\n",
       "      <td>-0.082609</td>\n",
       "      <td>0.057112</td>\n",
       "    </tr>\n",
       "    <tr>\n",
       "      <th>freetime</th>\n",
       "      <td>0.029023</td>\n",
       "      <td>0.025335</td>\n",
       "      <td>-0.066556</td>\n",
       "      <td>-0.021937</td>\n",
       "      <td>-0.121969</td>\n",
       "      <td>0.098382</td>\n",
       "      <td>0.121969</td>\n",
       "      <td>0.175743</td>\n",
       "      <td>1.000000</td>\n",
       "      <td>0.296437</td>\n",
       "      <td>0.061575</td>\n",
       "      <td>0.009292</td>\n",
       "      <td>0.019026</td>\n",
       "    </tr>\n",
       "    <tr>\n",
       "      <th>goout</th>\n",
       "      <td>0.135107</td>\n",
       "      <td>0.064164</td>\n",
       "      <td>-0.023282</td>\n",
       "      <td>0.037636</td>\n",
       "      <td>-0.051280</td>\n",
       "      <td>0.120914</td>\n",
       "      <td>0.051280</td>\n",
       "      <td>0.081154</td>\n",
       "      <td>0.296437</td>\n",
       "      <td>1.000000</td>\n",
       "      <td>-0.015608</td>\n",
       "      <td>-0.048738</td>\n",
       "      <td>-0.129685</td>\n",
       "    </tr>\n",
       "    <tr>\n",
       "      <th>health</th>\n",
       "      <td>-0.065946</td>\n",
       "      <td>-0.045051</td>\n",
       "      <td>0.027251</td>\n",
       "      <td>-0.021531</td>\n",
       "      <td>-0.080016</td>\n",
       "      <td>0.081284</td>\n",
       "      <td>0.080016</td>\n",
       "      <td>0.077474</td>\n",
       "      <td>0.061575</td>\n",
       "      <td>-0.015608</td>\n",
       "      <td>1.000000</td>\n",
       "      <td>-0.016222</td>\n",
       "      <td>-0.070460</td>\n",
       "    </tr>\n",
       "    <tr>\n",
       "      <th>absences</th>\n",
       "      <td>0.093592</td>\n",
       "      <td>-0.011944</td>\n",
       "      <td>0.004695</td>\n",
       "      <td>-0.048215</td>\n",
       "      <td>-0.026544</td>\n",
       "      <td>0.057391</td>\n",
       "      <td>0.026544</td>\n",
       "      <td>-0.082609</td>\n",
       "      <td>0.009292</td>\n",
       "      <td>-0.048738</td>\n",
       "      <td>-0.016222</td>\n",
       "      <td>1.000000</td>\n",
       "      <td>0.065283</td>\n",
       "    </tr>\n",
       "    <tr>\n",
       "      <th>score</th>\n",
       "      <td>-0.155726</td>\n",
       "      <td>0.213349</td>\n",
       "      <td>0.078573</td>\n",
       "      <td>-0.070559</td>\n",
       "      <td>0.115741</td>\n",
       "      <td>-0.344338</td>\n",
       "      <td>-0.115741</td>\n",
       "      <td>0.057112</td>\n",
       "      <td>0.019026</td>\n",
       "      <td>-0.129685</td>\n",
       "      <td>-0.070460</td>\n",
       "      <td>0.065283</td>\n",
       "      <td>1.000000</td>\n",
       "    </tr>\n",
       "  </tbody>\n",
       "</table>\n",
       "</div>"
      ],
      "text/plain": [
       "                          age      Medu      Fedu  traveltime  studytime  \\\n",
       "age                  1.000000 -0.161704 -0.138018    0.081508  -0.015556   \n",
       "Medu                -0.161704  1.000000  0.275598   -0.173515   0.078589   \n",
       "Fedu                -0.138018  0.275598  1.000000    0.030646   0.057199   \n",
       "traveltime           0.081508 -0.173515  0.030646    1.000000  -0.102206   \n",
       "studytime           -0.015556  0.078589  0.057199   -0.102206   1.000000   \n",
       "failures             0.228047 -0.245463 -0.150821    0.064699  -0.178992   \n",
       "studytime, granular  0.015556 -0.078589 -0.057199    0.102206  -1.000000   \n",
       "famrel               0.068899 -0.010050  0.040577   -0.016857   0.045894   \n",
       "freetime             0.029023  0.025335 -0.066556   -0.021937  -0.121969   \n",
       "goout                0.135107  0.064164 -0.023282    0.037636  -0.051280   \n",
       "health              -0.065946 -0.045051  0.027251   -0.021531  -0.080016   \n",
       "absences             0.093592 -0.011944  0.004695   -0.048215  -0.026544   \n",
       "score               -0.155726  0.213349  0.078573   -0.070559   0.115741   \n",
       "\n",
       "                     failures  studytime, granular    famrel  freetime  \\\n",
       "age                  0.228047             0.015556  0.068899  0.029023   \n",
       "Medu                -0.245463            -0.078589 -0.010050  0.025335   \n",
       "Fedu                -0.150821            -0.057199  0.040577 -0.066556   \n",
       "traveltime           0.064699             0.102206 -0.016857 -0.021937   \n",
       "studytime           -0.178992            -1.000000  0.045894 -0.121969   \n",
       "failures             1.000000             0.178992 -0.022655  0.098382   \n",
       "studytime, granular  0.178992             1.000000 -0.045894  0.121969   \n",
       "famrel              -0.022655            -0.045894  1.000000  0.175743   \n",
       "freetime             0.098382             0.121969  0.175743  1.000000   \n",
       "goout                0.120914             0.051280  0.081154  0.296437   \n",
       "health               0.081284             0.080016  0.077474  0.061575   \n",
       "absences             0.057391             0.026544 -0.082609  0.009292   \n",
       "score               -0.344338            -0.115741  0.057112  0.019026   \n",
       "\n",
       "                        goout    health  absences     score  \n",
       "age                  0.135107 -0.065946  0.093592 -0.155726  \n",
       "Medu                 0.064164 -0.045051 -0.011944  0.213349  \n",
       "Fedu                -0.023282  0.027251  0.004695  0.078573  \n",
       "traveltime           0.037636 -0.021531 -0.048215 -0.070559  \n",
       "studytime           -0.051280 -0.080016 -0.026544  0.115741  \n",
       "failures             0.120914  0.081284  0.057391 -0.344338  \n",
       "studytime, granular  0.051280  0.080016  0.026544 -0.115741  \n",
       "famrel               0.081154  0.077474 -0.082609  0.057112  \n",
       "freetime             0.296437  0.061575  0.009292  0.019026  \n",
       "goout                1.000000 -0.015608 -0.048738 -0.129685  \n",
       "health              -0.015608  1.000000 -0.016222 -0.070460  \n",
       "absences            -0.048738 -0.016222  1.000000  0.065283  \n",
       "score               -0.129685 -0.070460  0.065283  1.000000  "
      ]
     },
     "metadata": {},
     "output_type": "display_data"
    }
   ],
   "source": [
    "# описание выше не содержит обнаруженный в датасете столбец: 'studytime, granular'.\n",
    "# синтаксис названия столбца 'studytime, granular', изучение значений в его строках и результаты построенной\n",
    "# корреляционной матрицы позволяют предположить (обнаружена 100% отрицательная корреляция со столбцом 'studytime'),\n",
    "# что в дальнейшем анализе датасета этот столбец не потребуется, поэтому он будет удален.\n",
    "\n",
    "print(stud.columns) \n",
    "print(stud['studytime, granular'].unique()) \n",
    "\n",
    "import pandas as pd\n",
    "df = pd.read_csv('stud_math.csv')\n",
    "display(df.corr())"
   ]
  },
  {
   "cell_type": "code",
   "execution_count": 18,
   "metadata": {},
   "outputs": [
    {
     "data": {
      "text/html": [
       "<div>\n",
       "<style scoped>\n",
       "    .dataframe tbody tr th:only-of-type {\n",
       "        vertical-align: middle;\n",
       "    }\n",
       "\n",
       "    .dataframe tbody tr th {\n",
       "        vertical-align: top;\n",
       "    }\n",
       "\n",
       "    .dataframe thead th {\n",
       "        text-align: right;\n",
       "    }\n",
       "</style>\n",
       "<table border=\"1\" class=\"dataframe\">\n",
       "  <thead>\n",
       "    <tr style=\"text-align: right;\">\n",
       "      <th></th>\n",
       "      <th>school</th>\n",
       "      <th>sex</th>\n",
       "      <th>age</th>\n",
       "      <th>address</th>\n",
       "      <th>fam_size</th>\n",
       "      <th>p_status</th>\n",
       "      <th>mom_edu</th>\n",
       "      <th>dad_edu</th>\n",
       "      <th>mom_job</th>\n",
       "      <th>dad_job</th>\n",
       "      <th>reason</th>\n",
       "      <th>guardian</th>\n",
       "      <th>travel_time</th>\n",
       "      <th>study_time</th>\n",
       "      <th>failures</th>\n",
       "      <th>school_sup</th>\n",
       "      <th>fam_sup</th>\n",
       "      <th>paid</th>\n",
       "      <th>activities</th>\n",
       "      <th>nursery</th>\n",
       "      <th>higher</th>\n",
       "      <th>internet</th>\n",
       "      <th>romantic</th>\n",
       "      <th>fam_rel</th>\n",
       "      <th>free_time</th>\n",
       "      <th>goout</th>\n",
       "      <th>health</th>\n",
       "      <th>absences</th>\n",
       "      <th>score</th>\n",
       "    </tr>\n",
       "  </thead>\n",
       "  <tbody>\n",
       "    <tr>\n",
       "      <th>0</th>\n",
       "      <td>GP</td>\n",
       "      <td>F</td>\n",
       "      <td>18</td>\n",
       "      <td>U</td>\n",
       "      <td>NaN</td>\n",
       "      <td>A</td>\n",
       "      <td>4.0</td>\n",
       "      <td>4.0</td>\n",
       "      <td>at_home</td>\n",
       "      <td>teacher</td>\n",
       "      <td>course</td>\n",
       "      <td>mother</td>\n",
       "      <td>2.0</td>\n",
       "      <td>2.0</td>\n",
       "      <td>0.0</td>\n",
       "      <td>yes</td>\n",
       "      <td>no</td>\n",
       "      <td>no</td>\n",
       "      <td>no</td>\n",
       "      <td>yes</td>\n",
       "      <td>yes</td>\n",
       "      <td>NaN</td>\n",
       "      <td>no</td>\n",
       "      <td>4.0</td>\n",
       "      <td>3.0</td>\n",
       "      <td>4.0</td>\n",
       "      <td>3.0</td>\n",
       "      <td>6.0</td>\n",
       "      <td>30.0</td>\n",
       "    </tr>\n",
       "    <tr>\n",
       "      <th>1</th>\n",
       "      <td>GP</td>\n",
       "      <td>F</td>\n",
       "      <td>17</td>\n",
       "      <td>U</td>\n",
       "      <td>GT3</td>\n",
       "      <td>NaN</td>\n",
       "      <td>1.0</td>\n",
       "      <td>1.0</td>\n",
       "      <td>at_home</td>\n",
       "      <td>other</td>\n",
       "      <td>course</td>\n",
       "      <td>father</td>\n",
       "      <td>1.0</td>\n",
       "      <td>2.0</td>\n",
       "      <td>0.0</td>\n",
       "      <td>no</td>\n",
       "      <td>yes</td>\n",
       "      <td>no</td>\n",
       "      <td>no</td>\n",
       "      <td>no</td>\n",
       "      <td>yes</td>\n",
       "      <td>yes</td>\n",
       "      <td>no</td>\n",
       "      <td>5.0</td>\n",
       "      <td>3.0</td>\n",
       "      <td>3.0</td>\n",
       "      <td>3.0</td>\n",
       "      <td>4.0</td>\n",
       "      <td>30.0</td>\n",
       "    </tr>\n",
       "    <tr>\n",
       "      <th>2</th>\n",
       "      <td>GP</td>\n",
       "      <td>F</td>\n",
       "      <td>15</td>\n",
       "      <td>U</td>\n",
       "      <td>LE3</td>\n",
       "      <td>T</td>\n",
       "      <td>1.0</td>\n",
       "      <td>1.0</td>\n",
       "      <td>at_home</td>\n",
       "      <td>other</td>\n",
       "      <td>other</td>\n",
       "      <td>mother</td>\n",
       "      <td>1.0</td>\n",
       "      <td>2.0</td>\n",
       "      <td>3.0</td>\n",
       "      <td>yes</td>\n",
       "      <td>no</td>\n",
       "      <td>NaN</td>\n",
       "      <td>no</td>\n",
       "      <td>yes</td>\n",
       "      <td>yes</td>\n",
       "      <td>yes</td>\n",
       "      <td>NaN</td>\n",
       "      <td>4.0</td>\n",
       "      <td>3.0</td>\n",
       "      <td>2.0</td>\n",
       "      <td>3.0</td>\n",
       "      <td>10.0</td>\n",
       "      <td>50.0</td>\n",
       "    </tr>\n",
       "    <tr>\n",
       "      <th>3</th>\n",
       "      <td>GP</td>\n",
       "      <td>F</td>\n",
       "      <td>15</td>\n",
       "      <td>U</td>\n",
       "      <td>GT3</td>\n",
       "      <td>T</td>\n",
       "      <td>4.0</td>\n",
       "      <td>2.0</td>\n",
       "      <td>health</td>\n",
       "      <td>NaN</td>\n",
       "      <td>home</td>\n",
       "      <td>mother</td>\n",
       "      <td>1.0</td>\n",
       "      <td>3.0</td>\n",
       "      <td>0.0</td>\n",
       "      <td>no</td>\n",
       "      <td>yes</td>\n",
       "      <td>yes</td>\n",
       "      <td>yes</td>\n",
       "      <td>yes</td>\n",
       "      <td>yes</td>\n",
       "      <td>yes</td>\n",
       "      <td>yes</td>\n",
       "      <td>3.0</td>\n",
       "      <td>2.0</td>\n",
       "      <td>2.0</td>\n",
       "      <td>5.0</td>\n",
       "      <td>2.0</td>\n",
       "      <td>75.0</td>\n",
       "    </tr>\n",
       "    <tr>\n",
       "      <th>4</th>\n",
       "      <td>GP</td>\n",
       "      <td>F</td>\n",
       "      <td>16</td>\n",
       "      <td>U</td>\n",
       "      <td>GT3</td>\n",
       "      <td>T</td>\n",
       "      <td>3.0</td>\n",
       "      <td>3.0</td>\n",
       "      <td>other</td>\n",
       "      <td>other</td>\n",
       "      <td>home</td>\n",
       "      <td>father</td>\n",
       "      <td>1.0</td>\n",
       "      <td>2.0</td>\n",
       "      <td>0.0</td>\n",
       "      <td>no</td>\n",
       "      <td>yes</td>\n",
       "      <td>yes</td>\n",
       "      <td>no</td>\n",
       "      <td>yes</td>\n",
       "      <td>yes</td>\n",
       "      <td>no</td>\n",
       "      <td>no</td>\n",
       "      <td>4.0</td>\n",
       "      <td>3.0</td>\n",
       "      <td>2.0</td>\n",
       "      <td>5.0</td>\n",
       "      <td>4.0</td>\n",
       "      <td>50.0</td>\n",
       "    </tr>\n",
       "  </tbody>\n",
       "</table>\n",
       "</div>"
      ],
      "text/plain": [
       "  school sex  age address fam_size p_status  mom_edu  dad_edu  mom_job  \\\n",
       "0     GP   F   18       U      NaN        A      4.0      4.0  at_home   \n",
       "1     GP   F   17       U      GT3      NaN      1.0      1.0  at_home   \n",
       "2     GP   F   15       U      LE3        T      1.0      1.0  at_home   \n",
       "3     GP   F   15       U      GT3        T      4.0      2.0   health   \n",
       "4     GP   F   16       U      GT3        T      3.0      3.0    other   \n",
       "\n",
       "   dad_job  reason guardian  travel_time  study_time  failures school_sup  \\\n",
       "0  teacher  course   mother          2.0         2.0       0.0        yes   \n",
       "1    other  course   father          1.0         2.0       0.0         no   \n",
       "2    other   other   mother          1.0         2.0       3.0        yes   \n",
       "3      NaN    home   mother          1.0         3.0       0.0         no   \n",
       "4    other    home   father          1.0         2.0       0.0         no   \n",
       "\n",
       "  fam_sup paid activities nursery higher internet romantic  fam_rel  \\\n",
       "0      no   no         no     yes    yes      NaN       no      4.0   \n",
       "1     yes   no         no      no    yes      yes       no      5.0   \n",
       "2      no  NaN         no     yes    yes      yes      NaN      4.0   \n",
       "3     yes  yes        yes     yes    yes      yes      yes      3.0   \n",
       "4     yes  yes         no     yes    yes       no       no      4.0   \n",
       "\n",
       "   free_time  goout  health  absences  score  \n",
       "0        3.0    4.0     3.0       6.0   30.0  \n",
       "1        3.0    3.0     3.0       4.0   30.0  \n",
       "2        3.0    2.0     3.0      10.0   50.0  \n",
       "3        2.0    2.0     5.0       2.0   75.0  \n",
       "4        3.0    2.0     5.0       4.0   50.0  "
      ]
     },
     "metadata": {},
     "output_type": "display_data"
    },
    {
     "name": "stdout",
     "output_type": "stream",
     "text": [
      "<class 'pandas.core.frame.DataFrame'>\n",
      "RangeIndex: 395 entries, 0 to 394\n",
      "Data columns (total 29 columns):\n",
      " #   Column       Non-Null Count  Dtype  \n",
      "---  ------       --------------  -----  \n",
      " 0   school       395 non-null    object \n",
      " 1   sex          395 non-null    object \n",
      " 2   age          395 non-null    int64  \n",
      " 3   address      378 non-null    object \n",
      " 4   fam_size     368 non-null    object \n",
      " 5   p_status     350 non-null    object \n",
      " 6   mom_edu      392 non-null    float64\n",
      " 7   dad_edu      371 non-null    float64\n",
      " 8   mom_job      376 non-null    object \n",
      " 9   dad_job      359 non-null    object \n",
      " 10  reason       378 non-null    object \n",
      " 11  guardian     364 non-null    object \n",
      " 12  travel_time  367 non-null    float64\n",
      " 13  study_time   388 non-null    float64\n",
      " 14  failures     373 non-null    float64\n",
      " 15  school_sup   386 non-null    object \n",
      " 16  fam_sup      356 non-null    object \n",
      " 17  paid         355 non-null    object \n",
      " 18  activities   381 non-null    object \n",
      " 19  nursery      379 non-null    object \n",
      " 20  higher       375 non-null    object \n",
      " 21  internet     361 non-null    object \n",
      " 22  romantic     364 non-null    object \n",
      " 23  fam_rel      368 non-null    float64\n",
      " 24  free_time    384 non-null    float64\n",
      " 25  goout        387 non-null    float64\n",
      " 26  health       380 non-null    float64\n",
      " 27  absences     383 non-null    float64\n",
      " 28  score        389 non-null    float64\n",
      "dtypes: float64(11), int64(1), object(17)\n",
      "memory usage: 89.6+ KB\n"
     ]
    }
   ],
   "source": [
    "stud.drop(['studytime, granular'], inplace = True, axis = 1) # удаляю столбец 'studytime, granular' из датасета\n",
    "\n",
    "# для удобства работы с датасет переименуем оставшиеся столбцы:\n",
    "stud.columns = ['school', 'sex', 'age', 'address', 'fam_size', 'p_status', 'mom_edu', 'dad_edu',\n",
    "       'mom_job', 'dad_job', 'reason', 'guardian', 'travel_time', 'study_time',\n",
    "       'failures', 'school_sup', 'fam_sup', 'paid', 'activities', 'nursery',\n",
    "       'higher', 'internet', 'romantic', 'fam_rel',\n",
    "       'free_time', 'goout', 'health', 'absences', 'score']\n",
    "display(stud.head())\n",
    "stud.info()"
   ]
  },
  {
   "cell_type": "code",
   "execution_count": null,
   "metadata": {},
   "outputs": [],
   "source": [
    "# так же была построена корреляционная "
   ]
  },
  {
   "cell_type": "code",
   "execution_count": 13,
   "metadata": {},
   "outputs": [],
   "source": [
    "# Продолжаю анализ столбцов, для упрощения анализа столбцов с номинативными данными, подсчета уникальных переменных\n",
    "# и наличия пропусков буду использовать следующую функцию:\n",
    "\n",
    "def uniq_count(column_name):\n",
    "    display(stud[column_name].value_counts())\n",
    "    print('уникальных значений: {}, пропусков(nan): {}'.\n",
    "      format(len(stud[column_name].value_counts()), 395 - stud[column_name].count()))\n",
    "    return"
   ]
  },
  {
   "cell_type": "code",
   "execution_count": 19,
   "metadata": {},
   "outputs": [
    {
     "data": {
      "text/plain": [
       "GP    349\n",
       "MS     46\n",
       "Name: school, dtype: int64"
      ]
     },
     "metadata": {},
     "output_type": "display_data"
    },
    {
     "name": "stdout",
     "output_type": "stream",
     "text": [
      "уникальных значений: 2, пропусков(nan): 0\n"
     ]
    }
   ],
   "source": [
    "#1) столбец 'school':\n",
    "    \n",
    "uniq_count('school')\n",
    "\n",
    "# столбец номинативный полностью заполнен данными, в нем аббревиатуры только двух школ: 'GP'; 'MS' "
   ]
  },
  {
   "cell_type": "code",
   "execution_count": 20,
   "metadata": {},
   "outputs": [
    {
     "data": {
      "text/plain": [
       "F    208\n",
       "M    187\n",
       "Name: sex, dtype: int64"
      ]
     },
     "metadata": {},
     "output_type": "display_data"
    },
    {
     "name": "stdout",
     "output_type": "stream",
     "text": [
      "уникальных значений: 2, пропусков(nan): 0\n"
     ]
    }
   ],
   "source": [
    "# 2) столбец 'sex' - номинативный полностью заполнен и содержит логичные два значения: 'F'; 'M'\n",
    "\n",
    "uniq_count('sex')"
   ]
  },
  {
   "cell_type": "code",
   "execution_count": 46,
   "metadata": {},
   "outputs": [
    {
     "name": "stdout",
     "output_type": "stream",
     "text": [
      "count    395.000000\n",
      "mean      16.696203\n",
      "std        1.276043\n",
      "min       15.000000\n",
      "25%       16.000000\n",
      "50%       17.000000\n",
      "75%       18.000000\n",
      "max       22.000000\n",
      "Name: age, dtype: float64\n"
     ]
    },
    {
     "data": {
      "text/html": [
       "<div>\n",
       "<style scoped>\n",
       "    .dataframe tbody tr th:only-of-type {\n",
       "        vertical-align: middle;\n",
       "    }\n",
       "\n",
       "    .dataframe tbody tr th {\n",
       "        vertical-align: top;\n",
       "    }\n",
       "\n",
       "    .dataframe thead th {\n",
       "        text-align: right;\n",
       "    }\n",
       "</style>\n",
       "<table border=\"1\" class=\"dataframe\">\n",
       "  <thead>\n",
       "    <tr style=\"text-align: right;\">\n",
       "      <th></th>\n",
       "      <th>school</th>\n",
       "      <th>sex</th>\n",
       "      <th>age</th>\n",
       "      <th>address</th>\n",
       "      <th>fam_size</th>\n",
       "      <th>p_status</th>\n",
       "      <th>mom_edu</th>\n",
       "      <th>dad_edu</th>\n",
       "      <th>mom_job</th>\n",
       "      <th>dad_job</th>\n",
       "      <th>reason</th>\n",
       "      <th>guardian</th>\n",
       "      <th>travel_time</th>\n",
       "      <th>study_time</th>\n",
       "      <th>failures</th>\n",
       "      <th>school_sup</th>\n",
       "      <th>fam_sup</th>\n",
       "      <th>paid</th>\n",
       "      <th>activities</th>\n",
       "      <th>nursery</th>\n",
       "      <th>higher</th>\n",
       "      <th>internet</th>\n",
       "      <th>romantic</th>\n",
       "      <th>fam_rel</th>\n",
       "      <th>free_time</th>\n",
       "      <th>goout</th>\n",
       "      <th>health</th>\n",
       "      <th>absences</th>\n",
       "      <th>score</th>\n",
       "    </tr>\n",
       "  </thead>\n",
       "  <tbody>\n",
       "    <tr>\n",
       "      <th>247</th>\n",
       "      <td>GP</td>\n",
       "      <td>M</td>\n",
       "      <td>22</td>\n",
       "      <td>U</td>\n",
       "      <td>GT3</td>\n",
       "      <td>T</td>\n",
       "      <td>3.0</td>\n",
       "      <td>1.0</td>\n",
       "      <td>services</td>\n",
       "      <td>services</td>\n",
       "      <td>other</td>\n",
       "      <td>mother</td>\n",
       "      <td>1.0</td>\n",
       "      <td>1.0</td>\n",
       "      <td>3.0</td>\n",
       "      <td>no</td>\n",
       "      <td>no</td>\n",
       "      <td>no</td>\n",
       "      <td>no</td>\n",
       "      <td>no</td>\n",
       "      <td>no</td>\n",
       "      <td>yes</td>\n",
       "      <td>yes</td>\n",
       "      <td>5.0</td>\n",
       "      <td>4.0</td>\n",
       "      <td>5.0</td>\n",
       "      <td>1.0</td>\n",
       "      <td>16.0</td>\n",
       "      <td>40.0</td>\n",
       "    </tr>\n",
       "  </tbody>\n",
       "</table>\n",
       "</div>"
      ],
      "text/plain": [
       "    school sex  age address fam_size p_status  mom_edu  dad_edu   mom_job  \\\n",
       "247     GP   M   22       U      GT3        T      3.0      1.0  services   \n",
       "\n",
       "      dad_job reason guardian  travel_time  study_time  failures school_sup  \\\n",
       "247  services  other   mother          1.0         1.0       3.0         no   \n",
       "\n",
       "    fam_sup paid activities nursery higher internet romantic  fam_rel  \\\n",
       "247      no   no         no      no     no      yes      yes      5.0   \n",
       "\n",
       "     free_time  goout  health  absences  score  \n",
       "247        4.0    5.0     1.0      16.0   40.0  "
      ]
     },
     "metadata": {},
     "output_type": "display_data"
    },
    {
     "data": {
      "image/png": "[encoded data removed]",
      "text/plain": [
       "<Figure size 432x288 with 1 Axes>"
      ]
     },
     "metadata": {
      "needs_background": "light"
     },
     "output_type": "display_data"
    }
   ],
   "source": [
    "# 3) столбец 'age' - номинативный полностью заполнен, содержит выброс - одного ученика 22 лет, \n",
    "# так как его строка данных полностью заполнена, пока оставлю ее.\n",
    "# распределение имеет положительное смещение.\n",
    "\n",
    "stud.boxplot(column = 'age')\n",
    "print(stud.age.describe())\n",
    "display(stud[stud.age == 22])"
   ]
  },
  {
   "cell_type": "code",
   "execution_count": 370,
   "metadata": {},
   "outputs": [
    {
     "data": {
      "text/plain": [
       "<AxesSubplot:>"
      ]
     },
     "execution_count": 370,
     "metadata": {},
     "output_type": "execute_result"
    },
    {
     "data": {
      "image/png": "[encoded data removed]",
      "text/plain": [
       "<Figure size 432x288 with 1 Axes>"
      ]
     },
     "metadata": {
      "needs_background": "light"
     },
     "output_type": "display_data"
    }
   ],
   "source": [
    "stud.age.hist(bins = 20)"
   ]
  },
  {
   "cell_type": "code",
   "execution_count": 21,
   "metadata": {},
   "outputs": [
    {
     "data": {
      "text/plain": [
       "U    295\n",
       "R     83\n",
       "Name: address, dtype: int64"
      ]
     },
     "metadata": {},
     "output_type": "display_data"
    },
    {
     "name": "stdout",
     "output_type": "stream",
     "text": [
      "уникальных значений: 2, пропусков(nan): 17\n"
     ]
    }
   ],
   "source": [
    "# 4) столбец 'address' номинативный содержит два вида значений в соответствии с описанием и 17 пропусков\n",
    "\n",
    "uniq_count('address')"
   ]
  },
  {
   "cell_type": "code",
   "execution_count": 22,
   "metadata": {},
   "outputs": [
    {
     "data": {
      "text/plain": [
       "GT3    261\n",
       "LE3    107\n",
       "Name: fam_size, dtype: int64"
      ]
     },
     "metadata": {},
     "output_type": "display_data"
    },
    {
     "name": "stdout",
     "output_type": "stream",
     "text": [
      "уникальных значений: 2, пропусков(nan): 27\n"
     ]
    }
   ],
   "source": [
    "# 5) столбец 'fam_size' номинативный содержит два вида значений в соответствии с описанием и 27 пропусков\n",
    "\n",
    "uniq_count('fam_size')"
   ]
  },
  {
   "cell_type": "code",
   "execution_count": 23,
   "metadata": {},
   "outputs": [
    {
     "data": {
      "text/plain": [
       "T    314\n",
       "A     36\n",
       "Name: p_status, dtype: int64"
      ]
     },
     "metadata": {},
     "output_type": "display_data"
    },
    {
     "name": "stdout",
     "output_type": "stream",
     "text": [
      "уникальных значений: 2, пропусков(nan): 45\n"
     ]
    }
   ],
   "source": [
    "# 6) столбец 'p_status' номинативный содержит два вида значений в соответствии с описанием и 45 пропусков\n",
    "\n",
    "uniq_count('p_status')"
   ]
  },
  {
   "cell_type": "code",
   "execution_count": 24,
   "metadata": {},
   "outputs": [
    {
     "data": {
      "text/plain": [
       "4.0    131\n",
       "2.0    102\n",
       "3.0     97\n",
       "1.0     59\n",
       "0.0      3\n",
       "Name: mom_edu, dtype: int64"
      ]
     },
     "metadata": {},
     "output_type": "display_data"
    },
    {
     "name": "stdout",
     "output_type": "stream",
     "text": [
      "уникальных значений: 5, пропусков(nan): 3\n"
     ]
    }
   ],
   "source": [
    "# 7) столбец 'mom_edu' номинативный содержит пять видов значений в соответствии с описанием и 3 пропуска\n",
    "\n",
    "uniq_count('mom_edu')"
   ]
  },
  {
   "cell_type": "code",
   "execution_count": 25,
   "metadata": {},
   "outputs": [
    {
     "data": {
      "text/plain": [
       "2.0     106\n",
       "3.0      96\n",
       "4.0      88\n",
       "1.0      78\n",
       "0.0       2\n",
       "40.0      1\n",
       "Name: dad_edu, dtype: int64"
      ]
     },
     "metadata": {},
     "output_type": "display_data"
    },
    {
     "name": "stdout",
     "output_type": "stream",
     "text": [
      "уникальных значений: 6, пропусков(nan): 24\n"
     ]
    }
   ],
   "source": [
    "# 8) столбец 'dad_edu' номинативный содержит пять видов значений в соответствии с описанием, 24 пропуска \n",
    "# и одну ошибку ввода \n",
    "\n",
    "uniq_count('dad_edu')"
   ]
  },
  {
   "cell_type": "code",
   "execution_count": 26,
   "metadata": {},
   "outputs": [
    {
     "data": {
      "text/plain": [
       "2.0    106\n",
       "3.0     96\n",
       "4.0     89\n",
       "1.0     78\n",
       "0.0      2\n",
       "Name: dad_edu, dtype: int64"
      ]
     },
     "metadata": {},
     "output_type": "display_data"
    }
   ],
   "source": [
    "# предполагаю, что при заполнении данных в ячейке произошла описка (лишний ноль), поэтому заменяю значение 40 на 4\n",
    "    \n",
    "indx_m = stud[stud.dad_edu == 40].dad_edu.index[0] # определяю индекс заменяемого значения\n",
    "stud.loc[indx_m, 'dad_edu'] = 4\n",
    "display(stud['dad_edu'].value_counts()) # замена прошла удачно!"
   ]
  },
  {
   "cell_type": "code",
   "execution_count": 27,
   "metadata": {},
   "outputs": [
    {
     "data": {
      "text/plain": [
       "other       133\n",
       "services     98\n",
       "at_home      58\n",
       "teacher      55\n",
       "health       32\n",
       "Name: mom_job, dtype: int64"
      ]
     },
     "metadata": {},
     "output_type": "display_data"
    },
    {
     "name": "stdout",
     "output_type": "stream",
     "text": [
      "уникальных значений: 5, пропусков(nan): 19\n"
     ]
    }
   ],
   "source": [
    "# 9) столбец 'mom_job' номинативный содержит пять видов значений в соответствии с описанием и 19 пропусков\n",
    "\n",
    "uniq_count('mom_job')"
   ]
  },
  {
   "cell_type": "code",
   "execution_count": 28,
   "metadata": {},
   "outputs": [
    {
     "data": {
      "text/plain": [
       "other       197\n",
       "services    102\n",
       "teacher      29\n",
       "at_home      16\n",
       "health       15\n",
       "Name: dad_job, dtype: int64"
      ]
     },
     "metadata": {},
     "output_type": "display_data"
    },
    {
     "name": "stdout",
     "output_type": "stream",
     "text": [
      "уникальных значений: 5, пропусков(nan): 36\n"
     ]
    }
   ],
   "source": [
    "# 10) столбец 'dad_job' номинативный содержит пять видов значений в соответствии с описанием и 36 пропусков.\n",
    "\n",
    "uniq_count('dad_job')"
   ]
  },
  {
   "cell_type": "code",
   "execution_count": 29,
   "metadata": {},
   "outputs": [
    {
     "data": {
      "text/plain": [
       "course        137\n",
       "home          104\n",
       "reputation    103\n",
       "other          34\n",
       "Name: reason, dtype: int64"
      ]
     },
     "metadata": {},
     "output_type": "display_data"
    },
    {
     "name": "stdout",
     "output_type": "stream",
     "text": [
      "уникальных значений: 4, пропусков(nan): 17\n"
     ]
    }
   ],
   "source": [
    "# 11) столбец 'reason' номинативный содержит 4 вида значений в соответствии с описанием и 17 пропусков.\n",
    "\n",
    "uniq_count('reason')"
   ]
  },
  {
   "cell_type": "code",
   "execution_count": 30,
   "metadata": {},
   "outputs": [
    {
     "data": {
      "text/plain": [
       "mother    250\n",
       "father     86\n",
       "other      28\n",
       "Name: guardian, dtype: int64"
      ]
     },
     "metadata": {},
     "output_type": "display_data"
    },
    {
     "name": "stdout",
     "output_type": "stream",
     "text": [
      "уникальных значений: 3, пропусков(nan): 31\n"
     ]
    }
   ],
   "source": [
    "# 12) столбец 'guardian' номинативный содержит 3 вида значений в соответствии с описанием и 31 пропуск.\n",
    "\n",
    "uniq_count('guardian')"
   ]
  },
  {
   "cell_type": "code",
   "execution_count": 31,
   "metadata": {},
   "outputs": [
    {
     "data": {
      "text/plain": [
       "1.0    242\n",
       "2.0     96\n",
       "3.0     22\n",
       "4.0      7\n",
       "Name: travel_time, dtype: int64"
      ]
     },
     "metadata": {},
     "output_type": "display_data"
    },
    {
     "name": "stdout",
     "output_type": "stream",
     "text": [
      "уникальных значений: 4, пропусков(nan): 28\n"
     ]
    }
   ],
   "source": [
    "# 13) столбец 'travel_time' номинативный содержит 4 вида значений в соответствии с описанием и 28 пропусков.\n",
    "\n",
    "uniq_count('travel_time')"
   ]
  },
  {
   "cell_type": "code",
   "execution_count": 32,
   "metadata": {},
   "outputs": [
    {
     "data": {
      "text/plain": [
       "2.0    194\n",
       "1.0    103\n",
       "3.0     64\n",
       "4.0     27\n",
       "Name: study_time, dtype: int64"
      ]
     },
     "metadata": {},
     "output_type": "display_data"
    },
    {
     "name": "stdout",
     "output_type": "stream",
     "text": [
      "уникальных значений: 4, пропусков(nan): 7\n"
     ]
    }
   ],
   "source": [
    "# 14) столбец 'study_time' номинативный содержит 4 вида значений в соответствии с описанием и 7 пропусков.\n",
    "\n",
    "uniq_count('study_time')"
   ]
  },
  {
   "cell_type": "code",
   "execution_count": 33,
   "metadata": {},
   "outputs": [
    {
     "data": {
      "text/plain": [
       "0.0    293\n",
       "1.0     49\n",
       "2.0     16\n",
       "3.0     15\n",
       "Name: failures, dtype: int64"
      ]
     },
     "metadata": {},
     "output_type": "display_data"
    },
    {
     "name": "stdout",
     "output_type": "stream",
     "text": [
      "уникальных значений: 4, пропусков(nan): 22\n"
     ]
    }
   ],
   "source": [
    "# 15) столбец 'failures' номинативный содержит 4 вида значений в соответствии с описанием и 22 пропуска.\n",
    "\n",
    "uniq_count('failures')"
   ]
  },
  {
   "cell_type": "code",
   "execution_count": 34,
   "metadata": {},
   "outputs": [
    {
     "data": {
      "text/plain": [
       "no     335\n",
       "yes     51\n",
       "Name: school_sup, dtype: int64"
      ]
     },
     "metadata": {},
     "output_type": "display_data"
    },
    {
     "name": "stdout",
     "output_type": "stream",
     "text": [
      "уникальных значений: 2, пропусков(nan): 9\n"
     ]
    }
   ],
   "source": [
    "# 16) столбец 'school_sup' номинативный содержит 2 вида значений в соответствии с описанием и 9 пропусков.\n",
    "\n",
    "uniq_count('school_sup')"
   ]
  },
  {
   "cell_type": "code",
   "execution_count": 35,
   "metadata": {},
   "outputs": [
    {
     "data": {
      "text/plain": [
       "yes    219\n",
       "no     137\n",
       "Name: fam_sup, dtype: int64"
      ]
     },
     "metadata": {},
     "output_type": "display_data"
    },
    {
     "name": "stdout",
     "output_type": "stream",
     "text": [
      "уникальных значений: 2, пропусков(nan): 39\n"
     ]
    }
   ],
   "source": [
    "# 17) столбец 'fam_sup' номинативный содержит 2 вида значений в соответствии с описанием и 39 пропусков.\n",
    "\n",
    "uniq_count('fam_sup')"
   ]
  },
  {
   "cell_type": "code",
   "execution_count": 36,
   "metadata": {},
   "outputs": [
    {
     "data": {
      "text/plain": [
       "no     200\n",
       "yes    155\n",
       "Name: paid, dtype: int64"
      ]
     },
     "metadata": {},
     "output_type": "display_data"
    },
    {
     "name": "stdout",
     "output_type": "stream",
     "text": [
      "уникальных значений: 2, пропусков(nan): 40\n"
     ]
    }
   ],
   "source": [
    "# 18) столбец 'paid' номинативный содержит 2 вида значений в соответствии с описанием и 40 пропусков.\n",
    "\n",
    "uniq_count('paid')"
   ]
  },
  {
   "cell_type": "code",
   "execution_count": 37,
   "metadata": {},
   "outputs": [
    {
     "data": {
      "text/plain": [
       "yes    195\n",
       "no     186\n",
       "Name: activities, dtype: int64"
      ]
     },
     "metadata": {},
     "output_type": "display_data"
    },
    {
     "name": "stdout",
     "output_type": "stream",
     "text": [
      "уникальных значений: 2, пропусков(nan): 14\n"
     ]
    }
   ],
   "source": [
    "# 19) столбец 'activities' номинативный содержит 2 вида значений в соответствии с описанием и 14 пропусков.\n",
    "\n",
    "uniq_count('activities')"
   ]
  },
  {
   "cell_type": "code",
   "execution_count": 38,
   "metadata": {},
   "outputs": [
    {
     "data": {
      "text/plain": [
       "yes    300\n",
       "no      79\n",
       "Name: nursery, dtype: int64"
      ]
     },
     "metadata": {},
     "output_type": "display_data"
    },
    {
     "name": "stdout",
     "output_type": "stream",
     "text": [
      "уникальных значений: 2, пропусков(nan): 16\n"
     ]
    }
   ],
   "source": [
    "# 20) столбец 'nursery' номинативный содержит 2 вида значений в соответствии с описанием и 16 пропусков.\n",
    "\n",
    "uniq_count('nursery')"
   ]
  },
  {
   "cell_type": "code",
   "execution_count": 39,
   "metadata": {},
   "outputs": [
    {
     "data": {
      "text/plain": [
       "yes    356\n",
       "no      19\n",
       "Name: higher, dtype: int64"
      ]
     },
     "metadata": {},
     "output_type": "display_data"
    },
    {
     "name": "stdout",
     "output_type": "stream",
     "text": [
      "уникальных значений: 2, пропусков(nan): 20\n"
     ]
    }
   ],
   "source": [
    "# 21) столбец 'higher' номинативный содержит 2 вида значений в соответствии с описанием и 20 пропусков.\n",
    "\n",
    "uniq_count('higher')"
   ]
  },
  {
   "cell_type": "code",
   "execution_count": 40,
   "metadata": {},
   "outputs": [
    {
     "data": {
      "text/plain": [
       "yes    305\n",
       "no      56\n",
       "Name: internet, dtype: int64"
      ]
     },
     "metadata": {},
     "output_type": "display_data"
    },
    {
     "name": "stdout",
     "output_type": "stream",
     "text": [
      "уникальных значений: 2, пропусков(nan): 34\n"
     ]
    }
   ],
   "source": [
    "# 22) столбец 'internet' номинативный содержит 2 вида значений в соответствии с описанием и 34 пропуска.\n",
    "\n",
    "uniq_count('internet')"
   ]
  },
  {
   "cell_type": "code",
   "execution_count": 41,
   "metadata": {},
   "outputs": [
    {
     "data": {
      "text/plain": [
       "no     240\n",
       "yes    124\n",
       "Name: romantic, dtype: int64"
      ]
     },
     "metadata": {},
     "output_type": "display_data"
    },
    {
     "name": "stdout",
     "output_type": "stream",
     "text": [
      "уникальных значений: 2, пропусков(nan): 31\n"
     ]
    }
   ],
   "source": [
    "# 23) столбец 'romantic' номинативный содержит 2 вида значений в соответствии с описанием и 31 пропуск.\n",
    "\n",
    "uniq_count('romantic')"
   ]
  },
  {
   "cell_type": "code",
   "execution_count": 42,
   "metadata": {},
   "outputs": [
    {
     "data": {
      "text/plain": [
       " 4.0    182\n",
       " 5.0     99\n",
       " 3.0     62\n",
       " 2.0     17\n",
       " 1.0      7\n",
       "-1.0      1\n",
       "Name: fam_rel, dtype: int64"
      ]
     },
     "metadata": {},
     "output_type": "display_data"
    },
    {
     "name": "stdout",
     "output_type": "stream",
     "text": [
      "уникальных значений: 6, пропусков(nan): 27\n"
     ]
    }
   ],
   "source": [
    "# 24) столбец 'fam_rel' номинативный содержит 5 видов значений в соответствии с описанием, 27 пропусков и \n",
    "# одну ошибку ввода.\n",
    "\n",
    "uniq_count('fam_rel')"
   ]
  },
  {
   "cell_type": "code",
   "execution_count": 43,
   "metadata": {},
   "outputs": [
    {
     "data": {
      "text/plain": [
       "4.0    182\n",
       "5.0     99\n",
       "3.0     62\n",
       "2.0     17\n",
       "1.0      8\n",
       "Name: fam_rel, dtype: int64"
      ]
     },
     "metadata": {},
     "output_type": "display_data"
    }
   ],
   "source": [
    "# предполагаю, что при заполнении данных в ячейке произошла описка (лишний '-'), поэтому заменяю значение -1 на 1\n",
    "    \n",
    "indx_m = stud[stud.fam_rel == -1].fam_rel.index[0] # определяю индекс заменяемого значения\n",
    "stud.loc[indx_m, 'fam_rel'] = 1\n",
    "display(stud['fam_rel'].value_counts()) # замена прошла удачно!"
   ]
  },
  {
   "cell_type": "code",
   "execution_count": 44,
   "metadata": {},
   "outputs": [
    {
     "data": {
      "text/plain": [
       "3.0    153\n",
       "4.0    112\n",
       "2.0     63\n",
       "5.0     38\n",
       "1.0     18\n",
       "Name: free_time, dtype: int64"
      ]
     },
     "metadata": {},
     "output_type": "display_data"
    },
    {
     "name": "stdout",
     "output_type": "stream",
     "text": [
      "уникальных значений: 5, пропусков(nan): 11\n"
     ]
    }
   ],
   "source": [
    "# 25) столбец 'free_time' номинативный содержит 5 видов значений в соответствии с описанием и 11 пропусков.\n",
    "\n",
    "uniq_count('free_time')"
   ]
  },
  {
   "cell_type": "code",
   "execution_count": 45,
   "metadata": {},
   "outputs": [
    {
     "data": {
      "text/plain": [
       "3.0    127\n",
       "2.0    101\n",
       "4.0     84\n",
       "5.0     52\n",
       "1.0     23\n",
       "Name: goout, dtype: int64"
      ]
     },
     "metadata": {},
     "output_type": "display_data"
    },
    {
     "name": "stdout",
     "output_type": "stream",
     "text": [
      "уникальных значений: 5, пропусков(nan): 8\n"
     ]
    }
   ],
   "source": [
    "# 26) столбец 'goout' номинативный содержит 5 видов значений в соответствии с описанием и 8 пропусков.\n",
    "\n",
    "uniq_count('goout')"
   ]
  },
  {
   "cell_type": "code",
   "execution_count": 46,
   "metadata": {},
   "outputs": [
    {
     "data": {
      "text/plain": [
       "5.0    138\n",
       "3.0     89\n",
       "4.0     63\n",
       "1.0     47\n",
       "2.0     43\n",
       "Name: health, dtype: int64"
      ]
     },
     "metadata": {},
     "output_type": "display_data"
    },
    {
     "name": "stdout",
     "output_type": "stream",
     "text": [
      "уникальных значений: 5, пропусков(nan): 15\n"
     ]
    }
   ],
   "source": [
    "# 27) столбец 'health' номинативный содержит 5 видов значений в соответствии с описанием и 15 пропусков.\n",
    "\n",
    "uniq_count('health')"
   ]
  },
  {
   "cell_type": "code",
   "execution_count": 47,
   "metadata": {},
   "outputs": [
    {
     "name": "stdout",
     "output_type": "stream",
     "text": [
      "count    383.000000\n",
      "mean       7.279373\n",
      "std       23.465197\n",
      "min        0.000000\n",
      "25%        0.000000\n",
      "50%        4.000000\n",
      "75%        8.000000\n",
      "max      385.000000\n",
      "Name: absences, dtype: float64\n"
     ]
    },
    {
     "data": {
      "text/plain": [
       "array([  6.,   4.,  10.,   2.,   0.,  16.,  nan,  14.,   7.,   8.,  25.,\n",
       "        12.,  54.,  18.,  26.,  20.,  56.,  24.,  28.,   5.,  13.,  15.,\n",
       "        22.,   3., 385.,  21.,   1.,  75.,  30.,  19.,   9.,  11.,  38.,\n",
       "        40.,  23.,  17., 212.])"
      ]
     },
     "execution_count": 47,
     "metadata": {},
     "output_type": "execute_result"
    },
    {
     "data": {
      "image/png": "[encoded data removed]",
      "text/plain": [
       "<Figure size 432x288 with 1 Axes>"
      ]
     },
     "metadata": {
      "needs_background": "light"
     },
     "output_type": "display_data"
    }
   ],
   "source": [
    "# 28) столбец 'absences' количественный содержит и 12 пропусков (nan), среднее значительно больше медианы, \n",
    "# что говорит о правом (положительном) распределении данных и основное их распределение лежит между 0 и 30, \n",
    "# так же обнаружены выбросы\n",
    "\n",
    "print(stud.absences.describe())\n",
    "stud.absences.hist()\n",
    "stud.absences.unique()"
   ]
  },
  {
   "cell_type": "code",
   "execution_count": 361,
   "metadata": {},
   "outputs": [
    {
     "name": "stdout",
     "output_type": "stream",
     "text": [
      "25-й перцентиль: 0.0, 75-й перцентиль: 8.0, IQR: 8.0,  Границы выбросов: [-12.0, 20.0].\n"
     ]
    },
    {
     "data": {
      "image/png": "[encoded data removed]",
      "text/plain": [
       "<Figure size 432x288 with 1 Axes>"
      ]
     },
     "metadata": {
      "needs_background": "light"
     },
     "output_type": "display_data"
    }
   ],
   "source": [
    "# для отфильтровки выбросов расчитаю IQR - межквартильный размах. \n",
    "\n",
    "perc25 = stud.absences.quantile(0.25)\n",
    "perc75 = stud.absences.quantile(0.75)\n",
    "IQR = stud.absences.quantile(0.75) - stud.absences.quantile(0.25)\n",
    " \n",
    "print(\n",
    "'25-й перцентиль: {},'.format(perc25),\n",
    "'75-й перцентиль: {},'.format(perc75),\n",
    "\"IQR: {}, \".format(IQR),\n",
    "\"Границы выбросов: [{f}, {l}].\".format(f=perc25 - 1.5*IQR, l=perc75 + 1.5*IQR))\n",
    " \n",
    "stud.absences.loc[stud.absences.between(\n",
    "perc25 - 1.5*IQR,\n",
    "perc75 + 1.5*IQR)].hist(bins = 16, range = (0, 30), label = 'IQR')\n",
    " \n",
    "stud.absences.loc[stud.absences <= 212].hist(\n",
    "alpha = 0.5, bins = 16, range = (0, 30), label = 'Здравый смысл')\n",
    " \n",
    "plt.legend();"
   ]
  },
  {
   "cell_type": "code",
   "execution_count": 48,
   "metadata": {},
   "outputs": [
    {
     "data": {
      "text/html": [
       "<div>\n",
       "<style scoped>\n",
       "    .dataframe tbody tr th:only-of-type {\n",
       "        vertical-align: middle;\n",
       "    }\n",
       "\n",
       "    .dataframe tbody tr th {\n",
       "        vertical-align: top;\n",
       "    }\n",
       "\n",
       "    .dataframe thead th {\n",
       "        text-align: right;\n",
       "    }\n",
       "</style>\n",
       "<table border=\"1\" class=\"dataframe\">\n",
       "  <thead>\n",
       "    <tr style=\"text-align: right;\">\n",
       "      <th></th>\n",
       "      <th>school</th>\n",
       "      <th>sex</th>\n",
       "      <th>age</th>\n",
       "      <th>address</th>\n",
       "      <th>fam_size</th>\n",
       "      <th>p_status</th>\n",
       "      <th>mom_edu</th>\n",
       "      <th>dad_edu</th>\n",
       "      <th>mom_job</th>\n",
       "      <th>dad_job</th>\n",
       "      <th>reason</th>\n",
       "      <th>guardian</th>\n",
       "      <th>travel_time</th>\n",
       "      <th>study_time</th>\n",
       "      <th>failures</th>\n",
       "      <th>school_sup</th>\n",
       "      <th>fam_sup</th>\n",
       "      <th>paid</th>\n",
       "      <th>activities</th>\n",
       "      <th>nursery</th>\n",
       "      <th>higher</th>\n",
       "      <th>internet</th>\n",
       "      <th>romantic</th>\n",
       "      <th>fam_rel</th>\n",
       "      <th>free_time</th>\n",
       "      <th>goout</th>\n",
       "      <th>health</th>\n",
       "      <th>absences</th>\n",
       "      <th>score</th>\n",
       "    </tr>\n",
       "  </thead>\n",
       "  <tbody>\n",
       "    <tr>\n",
       "      <th>40</th>\n",
       "      <td>GP</td>\n",
       "      <td>F</td>\n",
       "      <td>16</td>\n",
       "      <td>U</td>\n",
       "      <td>LE3</td>\n",
       "      <td>T</td>\n",
       "      <td>2.0</td>\n",
       "      <td>2.0</td>\n",
       "      <td>other</td>\n",
       "      <td>other</td>\n",
       "      <td>home</td>\n",
       "      <td>mother</td>\n",
       "      <td>2.0</td>\n",
       "      <td>2.0</td>\n",
       "      <td>1.0</td>\n",
       "      <td>no</td>\n",
       "      <td>NaN</td>\n",
       "      <td>no</td>\n",
       "      <td>yes</td>\n",
       "      <td>no</td>\n",
       "      <td>yes</td>\n",
       "      <td>yes</td>\n",
       "      <td>yes</td>\n",
       "      <td>3.0</td>\n",
       "      <td>3.0</td>\n",
       "      <td>3.0</td>\n",
       "      <td>3.0</td>\n",
       "      <td>25.0</td>\n",
       "      <td>55.0</td>\n",
       "    </tr>\n",
       "    <tr>\n",
       "      <th>74</th>\n",
       "      <td>GP</td>\n",
       "      <td>F</td>\n",
       "      <td>16</td>\n",
       "      <td>U</td>\n",
       "      <td>GT3</td>\n",
       "      <td>T</td>\n",
       "      <td>3.0</td>\n",
       "      <td>3.0</td>\n",
       "      <td>other</td>\n",
       "      <td>services</td>\n",
       "      <td>home</td>\n",
       "      <td>mother</td>\n",
       "      <td>1.0</td>\n",
       "      <td>2.0</td>\n",
       "      <td>0.0</td>\n",
       "      <td>yes</td>\n",
       "      <td>yes</td>\n",
       "      <td>yes</td>\n",
       "      <td>yes</td>\n",
       "      <td>yes</td>\n",
       "      <td>yes</td>\n",
       "      <td>yes</td>\n",
       "      <td>no</td>\n",
       "      <td>4.0</td>\n",
       "      <td>NaN</td>\n",
       "      <td>3.0</td>\n",
       "      <td>5.0</td>\n",
       "      <td>54.0</td>\n",
       "      <td>55.0</td>\n",
       "    </tr>\n",
       "    <tr>\n",
       "      <th>103</th>\n",
       "      <td>GP</td>\n",
       "      <td>F</td>\n",
       "      <td>15</td>\n",
       "      <td>U</td>\n",
       "      <td>GT3</td>\n",
       "      <td>T</td>\n",
       "      <td>3.0</td>\n",
       "      <td>2.0</td>\n",
       "      <td>services</td>\n",
       "      <td>other</td>\n",
       "      <td>home</td>\n",
       "      <td>mother</td>\n",
       "      <td>2.0</td>\n",
       "      <td>2.0</td>\n",
       "      <td>0.0</td>\n",
       "      <td>yes</td>\n",
       "      <td>yes</td>\n",
       "      <td>yes</td>\n",
       "      <td>no</td>\n",
       "      <td>yes</td>\n",
       "      <td>yes</td>\n",
       "      <td>yes</td>\n",
       "      <td>no</td>\n",
       "      <td>4.0</td>\n",
       "      <td>3.0</td>\n",
       "      <td>5.0</td>\n",
       "      <td>2.0</td>\n",
       "      <td>26.0</td>\n",
       "      <td>30.0</td>\n",
       "    </tr>\n",
       "    <tr>\n",
       "      <th>118</th>\n",
       "      <td>GP</td>\n",
       "      <td>M</td>\n",
       "      <td>17</td>\n",
       "      <td>R</td>\n",
       "      <td>GT3</td>\n",
       "      <td>T</td>\n",
       "      <td>1.0</td>\n",
       "      <td>3.0</td>\n",
       "      <td>other</td>\n",
       "      <td>NaN</td>\n",
       "      <td>course</td>\n",
       "      <td>father</td>\n",
       "      <td>3.0</td>\n",
       "      <td>2.0</td>\n",
       "      <td>1.0</td>\n",
       "      <td>no</td>\n",
       "      <td>yes</td>\n",
       "      <td>no</td>\n",
       "      <td>yes</td>\n",
       "      <td>yes</td>\n",
       "      <td>yes</td>\n",
       "      <td>NaN</td>\n",
       "      <td>no</td>\n",
       "      <td>NaN</td>\n",
       "      <td>2.0</td>\n",
       "      <td>4.0</td>\n",
       "      <td>5.0</td>\n",
       "      <td>20.0</td>\n",
       "      <td>40.0</td>\n",
       "    </tr>\n",
       "    <tr>\n",
       "      <th>183</th>\n",
       "      <td>GP</td>\n",
       "      <td>F</td>\n",
       "      <td>17</td>\n",
       "      <td>U</td>\n",
       "      <td>LE3</td>\n",
       "      <td>NaN</td>\n",
       "      <td>3.0</td>\n",
       "      <td>3.0</td>\n",
       "      <td>other</td>\n",
       "      <td>other</td>\n",
       "      <td>reputation</td>\n",
       "      <td>mother</td>\n",
       "      <td>1.0</td>\n",
       "      <td>2.0</td>\n",
       "      <td>0.0</td>\n",
       "      <td>no</td>\n",
       "      <td>yes</td>\n",
       "      <td>no</td>\n",
       "      <td>yes</td>\n",
       "      <td>yes</td>\n",
       "      <td>yes</td>\n",
       "      <td>yes</td>\n",
       "      <td>yes</td>\n",
       "      <td>5.0</td>\n",
       "      <td>3.0</td>\n",
       "      <td>3.0</td>\n",
       "      <td>1.0</td>\n",
       "      <td>56.0</td>\n",
       "      <td>40.0</td>\n",
       "    </tr>\n",
       "    <tr>\n",
       "      <th>198</th>\n",
       "      <td>GP</td>\n",
       "      <td>F</td>\n",
       "      <td>17</td>\n",
       "      <td>U</td>\n",
       "      <td>GT3</td>\n",
       "      <td>NaN</td>\n",
       "      <td>4.0</td>\n",
       "      <td>4.0</td>\n",
       "      <td>services</td>\n",
       "      <td>teacher</td>\n",
       "      <td>home</td>\n",
       "      <td>mother</td>\n",
       "      <td>2.0</td>\n",
       "      <td>1.0</td>\n",
       "      <td>1.0</td>\n",
       "      <td>no</td>\n",
       "      <td>yes</td>\n",
       "      <td>no</td>\n",
       "      <td>no</td>\n",
       "      <td>yes</td>\n",
       "      <td>yes</td>\n",
       "      <td>NaN</td>\n",
       "      <td>no</td>\n",
       "      <td>4.0</td>\n",
       "      <td>2.0</td>\n",
       "      <td>4.0</td>\n",
       "      <td>2.0</td>\n",
       "      <td>24.0</td>\n",
       "      <td>90.0</td>\n",
       "    </tr>\n",
       "    <tr>\n",
       "      <th>205</th>\n",
       "      <td>GP</td>\n",
       "      <td>F</td>\n",
       "      <td>17</td>\n",
       "      <td>U</td>\n",
       "      <td>GT3</td>\n",
       "      <td>T</td>\n",
       "      <td>3.0</td>\n",
       "      <td>4.0</td>\n",
       "      <td>at_home</td>\n",
       "      <td>services</td>\n",
       "      <td>home</td>\n",
       "      <td>mother</td>\n",
       "      <td>1.0</td>\n",
       "      <td>3.0</td>\n",
       "      <td>1.0</td>\n",
       "      <td>no</td>\n",
       "      <td>yes</td>\n",
       "      <td>yes</td>\n",
       "      <td>no</td>\n",
       "      <td>yes</td>\n",
       "      <td>yes</td>\n",
       "      <td>yes</td>\n",
       "      <td>yes</td>\n",
       "      <td>4.0</td>\n",
       "      <td>4.0</td>\n",
       "      <td>3.0</td>\n",
       "      <td>5.0</td>\n",
       "      <td>28.0</td>\n",
       "      <td>45.0</td>\n",
       "    </tr>\n",
       "    <tr>\n",
       "      <th>216</th>\n",
       "      <td>GP</td>\n",
       "      <td>F</td>\n",
       "      <td>17</td>\n",
       "      <td>U</td>\n",
       "      <td>GT3</td>\n",
       "      <td>T</td>\n",
       "      <td>4.0</td>\n",
       "      <td>3.0</td>\n",
       "      <td>other</td>\n",
       "      <td>NaN</td>\n",
       "      <td>reputation</td>\n",
       "      <td>mother</td>\n",
       "      <td>1.0</td>\n",
       "      <td>2.0</td>\n",
       "      <td>2.0</td>\n",
       "      <td>no</td>\n",
       "      <td>no</td>\n",
       "      <td>yes</td>\n",
       "      <td>no</td>\n",
       "      <td>yes</td>\n",
       "      <td>yes</td>\n",
       "      <td>yes</td>\n",
       "      <td>yes</td>\n",
       "      <td>3.0</td>\n",
       "      <td>4.0</td>\n",
       "      <td>5.0</td>\n",
       "      <td>1.0</td>\n",
       "      <td>22.0</td>\n",
       "      <td>20.0</td>\n",
       "    </tr>\n",
       "    <tr>\n",
       "      <th>222</th>\n",
       "      <td>GP</td>\n",
       "      <td>F</td>\n",
       "      <td>16</td>\n",
       "      <td>U</td>\n",
       "      <td>GT3</td>\n",
       "      <td>T</td>\n",
       "      <td>2.0</td>\n",
       "      <td>3.0</td>\n",
       "      <td>services</td>\n",
       "      <td>teacher</td>\n",
       "      <td>other</td>\n",
       "      <td>mother</td>\n",
       "      <td>1.0</td>\n",
       "      <td>2.0</td>\n",
       "      <td>0.0</td>\n",
       "      <td>yes</td>\n",
       "      <td>NaN</td>\n",
       "      <td>no</td>\n",
       "      <td>no</td>\n",
       "      <td>yes</td>\n",
       "      <td>yes</td>\n",
       "      <td>yes</td>\n",
       "      <td>no</td>\n",
       "      <td>2.0</td>\n",
       "      <td>3.0</td>\n",
       "      <td>1.0</td>\n",
       "      <td>3.0</td>\n",
       "      <td>385.0</td>\n",
       "      <td>85.0</td>\n",
       "    </tr>\n",
       "    <tr>\n",
       "      <th>237</th>\n",
       "      <td>GP</td>\n",
       "      <td>F</td>\n",
       "      <td>16</td>\n",
       "      <td>U</td>\n",
       "      <td>NaN</td>\n",
       "      <td>T</td>\n",
       "      <td>2.0</td>\n",
       "      <td>1.0</td>\n",
       "      <td>other</td>\n",
       "      <td>other</td>\n",
       "      <td>home</td>\n",
       "      <td>mother</td>\n",
       "      <td>1.0</td>\n",
       "      <td>1.0</td>\n",
       "      <td>0.0</td>\n",
       "      <td>no</td>\n",
       "      <td>NaN</td>\n",
       "      <td>no</td>\n",
       "      <td>no</td>\n",
       "      <td>yes</td>\n",
       "      <td>yes</td>\n",
       "      <td>yes</td>\n",
       "      <td>yes</td>\n",
       "      <td>4.0</td>\n",
       "      <td>5.0</td>\n",
       "      <td>2.0</td>\n",
       "      <td>5.0</td>\n",
       "      <td>20.0</td>\n",
       "      <td>60.0</td>\n",
       "    </tr>\n",
       "    <tr>\n",
       "      <th>260</th>\n",
       "      <td>GP</td>\n",
       "      <td>F</td>\n",
       "      <td>18</td>\n",
       "      <td>U</td>\n",
       "      <td>GT3</td>\n",
       "      <td>NaN</td>\n",
       "      <td>4.0</td>\n",
       "      <td>3.0</td>\n",
       "      <td>NaN</td>\n",
       "      <td>other</td>\n",
       "      <td>home</td>\n",
       "      <td>father</td>\n",
       "      <td>1.0</td>\n",
       "      <td>2.0</td>\n",
       "      <td>0.0</td>\n",
       "      <td>no</td>\n",
       "      <td>yes</td>\n",
       "      <td>yes</td>\n",
       "      <td>no</td>\n",
       "      <td>yes</td>\n",
       "      <td>yes</td>\n",
       "      <td>yes</td>\n",
       "      <td>yes</td>\n",
       "      <td>3.0</td>\n",
       "      <td>1.0</td>\n",
       "      <td>2.0</td>\n",
       "      <td>2.0</td>\n",
       "      <td>21.0</td>\n",
       "      <td>90.0</td>\n",
       "    </tr>\n",
       "    <tr>\n",
       "      <th>276</th>\n",
       "      <td>GP</td>\n",
       "      <td>F</td>\n",
       "      <td>18</td>\n",
       "      <td>R</td>\n",
       "      <td>GT3</td>\n",
       "      <td>A</td>\n",
       "      <td>3.0</td>\n",
       "      <td>2.0</td>\n",
       "      <td>other</td>\n",
       "      <td>services</td>\n",
       "      <td>home</td>\n",
       "      <td>mother</td>\n",
       "      <td>2.0</td>\n",
       "      <td>2.0</td>\n",
       "      <td>0.0</td>\n",
       "      <td>no</td>\n",
       "      <td>NaN</td>\n",
       "      <td>no</td>\n",
       "      <td>no</td>\n",
       "      <td>no</td>\n",
       "      <td>no</td>\n",
       "      <td>yes</td>\n",
       "      <td>yes</td>\n",
       "      <td>NaN</td>\n",
       "      <td>1.0</td>\n",
       "      <td>1.0</td>\n",
       "      <td>5.0</td>\n",
       "      <td>75.0</td>\n",
       "      <td>45.0</td>\n",
       "    </tr>\n",
       "    <tr>\n",
       "      <th>277</th>\n",
       "      <td>GP</td>\n",
       "      <td>M</td>\n",
       "      <td>18</td>\n",
       "      <td>U</td>\n",
       "      <td>GT3</td>\n",
       "      <td>T</td>\n",
       "      <td>4.0</td>\n",
       "      <td>4.0</td>\n",
       "      <td>NaN</td>\n",
       "      <td>services</td>\n",
       "      <td>home</td>\n",
       "      <td>mother</td>\n",
       "      <td>2.0</td>\n",
       "      <td>1.0</td>\n",
       "      <td>0.0</td>\n",
       "      <td>no</td>\n",
       "      <td>no</td>\n",
       "      <td>yes</td>\n",
       "      <td>yes</td>\n",
       "      <td>yes</td>\n",
       "      <td>yes</td>\n",
       "      <td>yes</td>\n",
       "      <td>no</td>\n",
       "      <td>3.0</td>\n",
       "      <td>2.0</td>\n",
       "      <td>4.0</td>\n",
       "      <td>3.0</td>\n",
       "      <td>22.0</td>\n",
       "      <td>45.0</td>\n",
       "    </tr>\n",
       "    <tr>\n",
       "      <th>280</th>\n",
       "      <td>GP</td>\n",
       "      <td>M</td>\n",
       "      <td>17</td>\n",
       "      <td>U</td>\n",
       "      <td>NaN</td>\n",
       "      <td>A</td>\n",
       "      <td>4.0</td>\n",
       "      <td>NaN</td>\n",
       "      <td>services</td>\n",
       "      <td>other</td>\n",
       "      <td>home</td>\n",
       "      <td>mother</td>\n",
       "      <td>2.0</td>\n",
       "      <td>1.0</td>\n",
       "      <td>NaN</td>\n",
       "      <td>no</td>\n",
       "      <td>no</td>\n",
       "      <td>yes</td>\n",
       "      <td>yes</td>\n",
       "      <td>yes</td>\n",
       "      <td>yes</td>\n",
       "      <td>yes</td>\n",
       "      <td>NaN</td>\n",
       "      <td>4.0</td>\n",
       "      <td>NaN</td>\n",
       "      <td>4.0</td>\n",
       "      <td>5.0</td>\n",
       "      <td>30.0</td>\n",
       "      <td>40.0</td>\n",
       "    </tr>\n",
       "    <tr>\n",
       "      <th>304</th>\n",
       "      <td>GP</td>\n",
       "      <td>M</td>\n",
       "      <td>19</td>\n",
       "      <td>U</td>\n",
       "      <td>GT3</td>\n",
       "      <td>T</td>\n",
       "      <td>3.0</td>\n",
       "      <td>3.0</td>\n",
       "      <td>other</td>\n",
       "      <td>other</td>\n",
       "      <td>home</td>\n",
       "      <td>other</td>\n",
       "      <td>1.0</td>\n",
       "      <td>2.0</td>\n",
       "      <td>1.0</td>\n",
       "      <td>no</td>\n",
       "      <td>yes</td>\n",
       "      <td>no</td>\n",
       "      <td>yes</td>\n",
       "      <td>yes</td>\n",
       "      <td>yes</td>\n",
       "      <td>yes</td>\n",
       "      <td>yes</td>\n",
       "      <td>4.0</td>\n",
       "      <td>4.0</td>\n",
       "      <td>4.0</td>\n",
       "      <td>3.0</td>\n",
       "      <td>20.0</td>\n",
       "      <td>65.0</td>\n",
       "    </tr>\n",
       "    <tr>\n",
       "      <th>307</th>\n",
       "      <td>GP</td>\n",
       "      <td>M</td>\n",
       "      <td>19</td>\n",
       "      <td>U</td>\n",
       "      <td>GT3</td>\n",
       "      <td>NaN</td>\n",
       "      <td>4.0</td>\n",
       "      <td>4.0</td>\n",
       "      <td>teacher</td>\n",
       "      <td>services</td>\n",
       "      <td>reputation</td>\n",
       "      <td>other</td>\n",
       "      <td>2.0</td>\n",
       "      <td>1.0</td>\n",
       "      <td>1.0</td>\n",
       "      <td>no</td>\n",
       "      <td>yes</td>\n",
       "      <td>yes</td>\n",
       "      <td>no</td>\n",
       "      <td>yes</td>\n",
       "      <td>yes</td>\n",
       "      <td>yes</td>\n",
       "      <td>yes</td>\n",
       "      <td>4.0</td>\n",
       "      <td>3.0</td>\n",
       "      <td>4.0</td>\n",
       "      <td>4.0</td>\n",
       "      <td>38.0</td>\n",
       "      <td>40.0</td>\n",
       "    </tr>\n",
       "    <tr>\n",
       "      <th>311</th>\n",
       "      <td>GP</td>\n",
       "      <td>F</td>\n",
       "      <td>19</td>\n",
       "      <td>U</td>\n",
       "      <td>GT3</td>\n",
       "      <td>T</td>\n",
       "      <td>2.0</td>\n",
       "      <td>1.0</td>\n",
       "      <td>at_home</td>\n",
       "      <td>other</td>\n",
       "      <td>other</td>\n",
       "      <td>other</td>\n",
       "      <td>3.0</td>\n",
       "      <td>2.0</td>\n",
       "      <td>0.0</td>\n",
       "      <td>no</td>\n",
       "      <td>yes</td>\n",
       "      <td>no</td>\n",
       "      <td>no</td>\n",
       "      <td>yes</td>\n",
       "      <td>no</td>\n",
       "      <td>yes</td>\n",
       "      <td>yes</td>\n",
       "      <td>3.0</td>\n",
       "      <td>NaN</td>\n",
       "      <td>1.0</td>\n",
       "      <td>2.0</td>\n",
       "      <td>20.0</td>\n",
       "      <td>65.0</td>\n",
       "    </tr>\n",
       "    <tr>\n",
       "      <th>313</th>\n",
       "      <td>GP</td>\n",
       "      <td>F</td>\n",
       "      <td>19</td>\n",
       "      <td>U</td>\n",
       "      <td>NaN</td>\n",
       "      <td>NaN</td>\n",
       "      <td>3.0</td>\n",
       "      <td>2.0</td>\n",
       "      <td>services</td>\n",
       "      <td>other</td>\n",
       "      <td>reputation</td>\n",
       "      <td>other</td>\n",
       "      <td>2.0</td>\n",
       "      <td>2.0</td>\n",
       "      <td>NaN</td>\n",
       "      <td>no</td>\n",
       "      <td>NaN</td>\n",
       "      <td>NaN</td>\n",
       "      <td>no</td>\n",
       "      <td>no</td>\n",
       "      <td>yes</td>\n",
       "      <td>yes</td>\n",
       "      <td>yes</td>\n",
       "      <td>4.0</td>\n",
       "      <td>2.0</td>\n",
       "      <td>2.0</td>\n",
       "      <td>1.0</td>\n",
       "      <td>22.0</td>\n",
       "      <td>55.0</td>\n",
       "    </tr>\n",
       "    <tr>\n",
       "      <th>315</th>\n",
       "      <td>GP</td>\n",
       "      <td>F</td>\n",
       "      <td>19</td>\n",
       "      <td>R</td>\n",
       "      <td>GT3</td>\n",
       "      <td>T</td>\n",
       "      <td>2.0</td>\n",
       "      <td>3.0</td>\n",
       "      <td>other</td>\n",
       "      <td>other</td>\n",
       "      <td>reputation</td>\n",
       "      <td>other</td>\n",
       "      <td>1.0</td>\n",
       "      <td>3.0</td>\n",
       "      <td>1.0</td>\n",
       "      <td>no</td>\n",
       "      <td>no</td>\n",
       "      <td>no</td>\n",
       "      <td>no</td>\n",
       "      <td>yes</td>\n",
       "      <td>yes</td>\n",
       "      <td>yes</td>\n",
       "      <td>yes</td>\n",
       "      <td>4.0</td>\n",
       "      <td>1.0</td>\n",
       "      <td>2.0</td>\n",
       "      <td>3.0</td>\n",
       "      <td>40.0</td>\n",
       "      <td>55.0</td>\n",
       "    </tr>\n",
       "    <tr>\n",
       "      <th>320</th>\n",
       "      <td>GP</td>\n",
       "      <td>F</td>\n",
       "      <td>17</td>\n",
       "      <td>U</td>\n",
       "      <td>GT3</td>\n",
       "      <td>A</td>\n",
       "      <td>4.0</td>\n",
       "      <td>3.0</td>\n",
       "      <td>services</td>\n",
       "      <td>services</td>\n",
       "      <td>course</td>\n",
       "      <td>mother</td>\n",
       "      <td>1.0</td>\n",
       "      <td>2.0</td>\n",
       "      <td>NaN</td>\n",
       "      <td>no</td>\n",
       "      <td>yes</td>\n",
       "      <td>yes</td>\n",
       "      <td>no</td>\n",
       "      <td>yes</td>\n",
       "      <td>NaN</td>\n",
       "      <td>yes</td>\n",
       "      <td>yes</td>\n",
       "      <td>5.0</td>\n",
       "      <td>2.0</td>\n",
       "      <td>2.0</td>\n",
       "      <td>5.0</td>\n",
       "      <td>23.0</td>\n",
       "      <td>65.0</td>\n",
       "    </tr>\n",
       "    <tr>\n",
       "      <th>390</th>\n",
       "      <td>MS</td>\n",
       "      <td>M</td>\n",
       "      <td>20</td>\n",
       "      <td>U</td>\n",
       "      <td>LE3</td>\n",
       "      <td>A</td>\n",
       "      <td>2.0</td>\n",
       "      <td>2.0</td>\n",
       "      <td>services</td>\n",
       "      <td>services</td>\n",
       "      <td>course</td>\n",
       "      <td>NaN</td>\n",
       "      <td>1.0</td>\n",
       "      <td>2.0</td>\n",
       "      <td>2.0</td>\n",
       "      <td>no</td>\n",
       "      <td>yes</td>\n",
       "      <td>yes</td>\n",
       "      <td>no</td>\n",
       "      <td>yes</td>\n",
       "      <td>yes</td>\n",
       "      <td>no</td>\n",
       "      <td>no</td>\n",
       "      <td>5.0</td>\n",
       "      <td>5.0</td>\n",
       "      <td>4.0</td>\n",
       "      <td>4.0</td>\n",
       "      <td>212.0</td>\n",
       "      <td>45.0</td>\n",
       "    </tr>\n",
       "  </tbody>\n",
       "</table>\n",
       "</div>"
      ],
      "text/plain": [
       "    school sex  age address fam_size p_status  mom_edu  dad_edu   mom_job  \\\n",
       "40      GP   F   16       U      LE3        T      2.0      2.0     other   \n",
       "74      GP   F   16       U      GT3        T      3.0      3.0     other   \n",
       "103     GP   F   15       U      GT3        T      3.0      2.0  services   \n",
       "118     GP   M   17       R      GT3        T      1.0      3.0     other   \n",
       "183     GP   F   17       U      LE3      NaN      3.0      3.0     other   \n",
       "198     GP   F   17       U      GT3      NaN      4.0      4.0  services   \n",
       "205     GP   F   17       U      GT3        T      3.0      4.0   at_home   \n",
       "216     GP   F   17       U      GT3        T      4.0      3.0     other   \n",
       "222     GP   F   16       U      GT3        T      2.0      3.0  services   \n",
       "237     GP   F   16       U      NaN        T      2.0      1.0     other   \n",
       "260     GP   F   18       U      GT3      NaN      4.0      3.0       NaN   \n",
       "276     GP   F   18       R      GT3        A      3.0      2.0     other   \n",
       "277     GP   M   18       U      GT3        T      4.0      4.0       NaN   \n",
       "280     GP   M   17       U      NaN        A      4.0      NaN  services   \n",
       "304     GP   M   19       U      GT3        T      3.0      3.0     other   \n",
       "307     GP   M   19       U      GT3      NaN      4.0      4.0   teacher   \n",
       "311     GP   F   19       U      GT3        T      2.0      1.0   at_home   \n",
       "313     GP   F   19       U      NaN      NaN      3.0      2.0  services   \n",
       "315     GP   F   19       R      GT3        T      2.0      3.0     other   \n",
       "320     GP   F   17       U      GT3        A      4.0      3.0  services   \n",
       "390     MS   M   20       U      LE3        A      2.0      2.0  services   \n",
       "\n",
       "      dad_job      reason guardian  travel_time  study_time  failures  \\\n",
       "40      other        home   mother          2.0         2.0       1.0   \n",
       "74   services        home   mother          1.0         2.0       0.0   \n",
       "103     other        home   mother          2.0         2.0       0.0   \n",
       "118       NaN      course   father          3.0         2.0       1.0   \n",
       "183     other  reputation   mother          1.0         2.0       0.0   \n",
       "198   teacher        home   mother          2.0         1.0       1.0   \n",
       "205  services        home   mother          1.0         3.0       1.0   \n",
       "216       NaN  reputation   mother          1.0         2.0       2.0   \n",
       "222   teacher       other   mother          1.0         2.0       0.0   \n",
       "237     other        home   mother          1.0         1.0       0.0   \n",
       "260     other        home   father          1.0         2.0       0.0   \n",
       "276  services        home   mother          2.0         2.0       0.0   \n",
       "277  services        home   mother          2.0         1.0       0.0   \n",
       "280     other        home   mother          2.0         1.0       NaN   \n",
       "304     other        home    other          1.0         2.0       1.0   \n",
       "307  services  reputation    other          2.0         1.0       1.0   \n",
       "311     other       other    other          3.0         2.0       0.0   \n",
       "313     other  reputation    other          2.0         2.0       NaN   \n",
       "315     other  reputation    other          1.0         3.0       1.0   \n",
       "320  services      course   mother          1.0         2.0       NaN   \n",
       "390  services      course      NaN          1.0         2.0       2.0   \n",
       "\n",
       "    school_sup fam_sup paid activities nursery higher internet romantic  \\\n",
       "40          no     NaN   no        yes      no    yes      yes      yes   \n",
       "74         yes     yes  yes        yes     yes    yes      yes       no   \n",
       "103        yes     yes  yes         no     yes    yes      yes       no   \n",
       "118         no     yes   no        yes     yes    yes      NaN       no   \n",
       "183         no     yes   no        yes     yes    yes      yes      yes   \n",
       "198         no     yes   no         no     yes    yes      NaN       no   \n",
       "205         no     yes  yes         no     yes    yes      yes      yes   \n",
       "216         no      no  yes         no     yes    yes      yes      yes   \n",
       "222        yes     NaN   no         no     yes    yes      yes       no   \n",
       "237         no     NaN   no         no     yes    yes      yes      yes   \n",
       "260         no     yes  yes         no     yes    yes      yes      yes   \n",
       "276         no     NaN   no         no      no     no      yes      yes   \n",
       "277         no      no  yes        yes     yes    yes      yes       no   \n",
       "280         no      no  yes        yes     yes    yes      yes      NaN   \n",
       "304         no     yes   no        yes     yes    yes      yes      yes   \n",
       "307         no     yes  yes         no     yes    yes      yes      yes   \n",
       "311         no     yes   no         no     yes     no      yes      yes   \n",
       "313         no     NaN  NaN         no      no    yes      yes      yes   \n",
       "315         no      no   no         no     yes    yes      yes      yes   \n",
       "320         no     yes  yes         no     yes    NaN      yes      yes   \n",
       "390         no     yes  yes         no     yes    yes       no       no   \n",
       "\n",
       "     fam_rel  free_time  goout  health  absences  score  \n",
       "40       3.0        3.0    3.0     3.0      25.0   55.0  \n",
       "74       4.0        NaN    3.0     5.0      54.0   55.0  \n",
       "103      4.0        3.0    5.0     2.0      26.0   30.0  \n",
       "118      NaN        2.0    4.0     5.0      20.0   40.0  \n",
       "183      5.0        3.0    3.0     1.0      56.0   40.0  \n",
       "198      4.0        2.0    4.0     2.0      24.0   90.0  \n",
       "205      4.0        4.0    3.0     5.0      28.0   45.0  \n",
       "216      3.0        4.0    5.0     1.0      22.0   20.0  \n",
       "222      2.0        3.0    1.0     3.0     385.0   85.0  \n",
       "237      4.0        5.0    2.0     5.0      20.0   60.0  \n",
       "260      3.0        1.0    2.0     2.0      21.0   90.0  \n",
       "276      NaN        1.0    1.0     5.0      75.0   45.0  \n",
       "277      3.0        2.0    4.0     3.0      22.0   45.0  \n",
       "280      4.0        NaN    4.0     5.0      30.0   40.0  \n",
       "304      4.0        4.0    4.0     3.0      20.0   65.0  \n",
       "307      4.0        3.0    4.0     4.0      38.0   40.0  \n",
       "311      3.0        NaN    1.0     2.0      20.0   65.0  \n",
       "313      4.0        2.0    2.0     1.0      22.0   55.0  \n",
       "315      4.0        1.0    2.0     3.0      40.0   55.0  \n",
       "320      5.0        2.0    2.0     5.0      23.0   65.0  \n",
       "390      5.0        5.0    4.0     4.0     212.0   45.0  "
      ]
     },
     "execution_count": 48,
     "metadata": {},
     "output_type": "execute_result"
    }
   ],
   "source": [
    "# Полученный график и анализ фильтрации ниже, предоставляют возможность исключить из датасета 21 из 395 строку с \n",
    "# данными, что не повлиет негативно на структуру и ценность данных для их дальнейшего использования, \n",
    "# что так же позволит сократить количество пропусков (nan) в датасете.\n",
    "\n",
    "stud[stud.absences >= 20]"
   ]
  },
  {
   "cell_type": "code",
   "execution_count": 259,
   "metadata": {},
   "outputs": [
    {
     "name": "stdout",
     "output_type": "stream",
     "text": [
      "count    389.000000\n",
      "mean      52.262211\n",
      "std       22.919022\n",
      "min        0.000000\n",
      "25%       40.000000\n",
      "50%       55.000000\n",
      "75%       70.000000\n",
      "max      100.000000\n",
      "Name: score, dtype: float64\n"
     ]
    },
    {
     "data": {
      "text/plain": [
       "<AxesSubplot:>"
      ]
     },
     "execution_count": 259,
     "metadata": {},
     "output_type": "execute_result"
    },
    {
     "data": {
      "image/png": "[encoded data removed]",
      "text/plain": [
       "<Figure size 432x288 with 1 Axes>"
      ]
     },
     "metadata": {
      "needs_background": "light"
     },
     "output_type": "display_data"
    }
   ],
   "source": [
    "# 29) столбец 'score' количественный и содержит 6 пропусков (nan). Выбросы отсутствуют, оценки имеют почти \n",
    "# симметричное распределение с необольшим смещением вниз к минимуму (отрицательное), что подверждается сравнением \n",
    "# медианы и среднего, медиана больше среднего почти на 5%,\n",
    "# 50% оценок сосредоточены между соответстующими квартилями Q1 = 40 и Q3 = 70\n",
    "\n",
    "print(stud.score.describe())\n",
    "stud.boxplot(column = 'score')"
   ]
  },
  {
   "cell_type": "code",
   "execution_count": 51,
   "metadata": {},
   "outputs": [],
   "source": [
    "# При изучении датасета были обнаружены в 26 столбцах из 29 пропуски (nan), так как эти пропуски носят случайный \n",
    "# характер столбцы с номинативными данными буду заполнять, используя следующую функцию:\n",
    "\n",
    "import numpy as np\n",
    "np.random.seed(1) # фиксируем рендомность, чтоб значения не менялись каждый раз при запуске    \n",
    "def nan_to_values(column_list, change_list):\n",
    "    for column in column_list:\n",
    "        stud[column] = stud[column].apply(lambda x: np.random.choice(change_list,1)[0] \n",
    "                                  if pd.isna(x) else x)\n",
    "    return    \n"
   ]
  },
  {
   "cell_type": "code",
   "execution_count": 52,
   "metadata": {},
   "outputs": [
    {
     "data": {
      "text/plain": [
       "array(['U', 'R'], dtype=object)"
      ]
     },
     "execution_count": 52,
     "metadata": {},
     "output_type": "execute_result"
    }
   ],
   "source": [
    "# заполняю значения в столбце 'address':\n",
    "import numpy as np\n",
    "\n",
    "change_list = ['U','R']\n",
    "column_list = ['address']\n",
    "nan_to_values(column_list,change_list)\n",
    "stud.address.unique()"
   ]
  },
  {
   "cell_type": "code",
   "execution_count": 53,
   "metadata": {},
   "outputs": [
    {
     "data": {
      "text/plain": [
       "array(['LE3', 'GT3'], dtype=object)"
      ]
     },
     "execution_count": 53,
     "metadata": {},
     "output_type": "execute_result"
    }
   ],
   "source": [
    "# заполняю значения в столбце 'fam_size':\n",
    "import numpy as np\n",
    "\n",
    "change_list = ['GT3','LE3']\n",
    "column_list = ['fam_size']\n",
    "nan_to_values(column_list,change_list)\n",
    "stud.fam_size.unique()"
   ]
  },
  {
   "cell_type": "code",
   "execution_count": 54,
   "metadata": {},
   "outputs": [
    {
     "data": {
      "text/plain": [
       "array(['A', 'T'], dtype=object)"
      ]
     },
     "execution_count": 54,
     "metadata": {},
     "output_type": "execute_result"
    }
   ],
   "source": [
    "# заполняю значения в столбце 'p_status':\n",
    "import numpy as np\n",
    "\n",
    "change_list = ['A','T']\n",
    "column_list = ['p_status']\n",
    "nan_to_values(column_list,change_list)\n",
    "stud.p_status.unique()"
   ]
  },
  {
   "cell_type": "code",
   "execution_count": 55,
   "metadata": {},
   "outputs": [],
   "source": [
    "# так как варианты данных сходные одновременно могу выполнить заполнения значения  столбцах:\n",
    "# 'mom_edu', 'dad_edu'\n",
    "import numpy as np\n",
    "\n",
    "change_list = [float(x) for x in range(5)]\n",
    "column_list = ['mom_edu', 'dad_edu']\n",
    "nan_to_values(column_list,change_list)"
   ]
  },
  {
   "cell_type": "code",
   "execution_count": 56,
   "metadata": {},
   "outputs": [],
   "source": [
    "# так как варианты данных сходные одновременно могу выполнить заполнения значения  столбцах:\n",
    "# 'travel_time', 'study_time'\n",
    "import numpy as np\n",
    "\n",
    "change_list = [float(x) for x in range(1, 5)]\n",
    "column_list = ['travel_time', 'study_time']\n",
    "nan_to_values(column_list,change_list)"
   ]
  },
  {
   "cell_type": "code",
   "execution_count": 57,
   "metadata": {},
   "outputs": [
    {
     "data": {
      "text/plain": [
       "array(['course', 'other', 'home', 'reputation'], dtype=object)"
      ]
     },
     "execution_count": 57,
     "metadata": {},
     "output_type": "execute_result"
    }
   ],
   "source": [
    "# заполняю значения в столбце 'reason':\n",
    "import numpy as np\n",
    "\n",
    "change_list = ['course', 'other', 'home', 'reputation']\n",
    "column_list = ['reason']\n",
    "nan_to_values(column_list,change_list)\n",
    "stud.reason.unique()"
   ]
  },
  {
   "cell_type": "code",
   "execution_count": 58,
   "metadata": {},
   "outputs": [
    {
     "data": {
      "text/plain": [
       "array(['mother', 'father', 'other'], dtype=object)"
      ]
     },
     "execution_count": 58,
     "metadata": {},
     "output_type": "execute_result"
    }
   ],
   "source": [
    "# заполняю значения в столбце 'guardian':\n",
    "import numpy as np\n",
    "\n",
    "change_list = ['mother', 'father', 'other']\n",
    "column_list = ['guardian']\n",
    "nan_to_values(column_list,change_list)\n",
    "stud.guardian.unique()"
   ]
  },
  {
   "cell_type": "code",
   "execution_count": 59,
   "metadata": {},
   "outputs": [
    {
     "data": {
      "text/plain": [
       "array([0., 3., 2., 1.])"
      ]
     },
     "execution_count": 59,
     "metadata": {},
     "output_type": "execute_result"
    }
   ],
   "source": [
    "# заполняю значения в столбце 'failures':\n",
    "import numpy as np\n",
    "\n",
    "change_list = [float(x) for x in range(4)]\n",
    "column_list = ['failures']\n",
    "nan_to_values(column_list,change_list)\n",
    "stud.failures.unique()"
   ]
  },
  {
   "cell_type": "code",
   "execution_count": 60,
   "metadata": {},
   "outputs": [],
   "source": [
    "# так как варианты данных сходные одновременно могу выполнить заполнения значения  столбцах:\n",
    "# 'school_sup', 'fam_sup', 'paid', 'activities','nursery', 'higher', 'internet', 'romantic'\n",
    "import numpy as np\n",
    "\n",
    "change_list = ['no', 'yes']\n",
    "column_list = ['school_sup', 'fam_sup', 'paid', 'activities',\n",
    "               'nursery', 'higher', 'internet', 'romantic']\n",
    "nan_to_values(column_list,change_list)"
   ]
  },
  {
   "cell_type": "code",
   "execution_count": 61,
   "metadata": {},
   "outputs": [],
   "source": [
    "# так как варианты данных сходные одновременно могу выполнить заполнения значения  столбцах:\n",
    "# 'fam_rel', 'free_time','goout', 'health'\n",
    "import numpy as np\n",
    "\n",
    "change_list = [float(x) for x in range(1, 6)]\n",
    "column_list = ['fam_rel', 'free_time','goout', 'health']\n",
    "nan_to_values(column_list,change_list)"
   ]
  },
  {
   "cell_type": "code",
   "execution_count": 62,
   "metadata": {},
   "outputs": [],
   "source": [
    "# так как варианты данных сходные одновременно могу выполнить заполнения значения  столбцах:\n",
    "# 'mom_job', 'dad_job'\n",
    "import numpy as np\n",
    "\n",
    "change_list = ['teacher', 'other', 'health', 'services', 'at_home']\n",
    "column_list = ['mom_job', 'dad_job']\n",
    "nan_to_values(column_list,change_list)"
   ]
  },
  {
   "cell_type": "code",
   "execution_count": 63,
   "metadata": {},
   "outputs": [
    {
     "name": "stdout",
     "output_type": "stream",
     "text": [
      "<class 'pandas.core.frame.DataFrame'>\n",
      "RangeIndex: 395 entries, 0 to 394\n",
      "Data columns (total 29 columns):\n",
      " #   Column       Non-Null Count  Dtype  \n",
      "---  ------       --------------  -----  \n",
      " 0   school       395 non-null    object \n",
      " 1   sex          395 non-null    object \n",
      " 2   age          395 non-null    int64  \n",
      " 3   address      395 non-null    object \n",
      " 4   fam_size     395 non-null    object \n",
      " 5   p_status     395 non-null    object \n",
      " 6   mom_edu      395 non-null    float64\n",
      " 7   dad_edu      395 non-null    float64\n",
      " 8   mom_job      395 non-null    object \n",
      " 9   dad_job      395 non-null    object \n",
      " 10  reason       395 non-null    object \n",
      " 11  guardian     395 non-null    object \n",
      " 12  travel_time  395 non-null    float64\n",
      " 13  study_time   395 non-null    float64\n",
      " 14  failures     395 non-null    float64\n",
      " 15  school_sup   395 non-null    object \n",
      " 16  fam_sup      395 non-null    object \n",
      " 17  paid         395 non-null    object \n",
      " 18  activities   395 non-null    object \n",
      " 19  nursery      395 non-null    object \n",
      " 20  higher       395 non-null    object \n",
      " 21  internet     395 non-null    object \n",
      " 22  romantic     395 non-null    object \n",
      " 23  fam_rel      395 non-null    float64\n",
      " 24  free_time    395 non-null    float64\n",
      " 25  goout        395 non-null    float64\n",
      " 26  health       395 non-null    float64\n",
      " 27  absences     383 non-null    float64\n",
      " 28  score        389 non-null    float64\n",
      "dtypes: float64(11), int64(1), object(17)\n",
      "memory usage: 89.6+ KB\n"
     ]
    }
   ],
   "source": [
    "# все пропуски данных в номинотивных столбцах заполнены:\n",
    "stud.info()"
   ]
  },
  {
   "cell_type": "code",
   "execution_count": 64,
   "metadata": {},
   "outputs": [
    {
     "name": "stdout",
     "output_type": "stream",
     "text": [
      "<class 'pandas.core.frame.DataFrame'>\n",
      "Int64Index: 374 entries, 0 to 394\n",
      "Data columns (total 29 columns):\n",
      " #   Column       Non-Null Count  Dtype  \n",
      "---  ------       --------------  -----  \n",
      " 0   school       374 non-null    object \n",
      " 1   sex          374 non-null    object \n",
      " 2   age          374 non-null    int64  \n",
      " 3   address      374 non-null    object \n",
      " 4   fam_size     374 non-null    object \n",
      " 5   p_status     374 non-null    object \n",
      " 6   mom_edu      374 non-null    float64\n",
      " 7   dad_edu      374 non-null    float64\n",
      " 8   mom_job      374 non-null    object \n",
      " 9   dad_job      374 non-null    object \n",
      " 10  reason       374 non-null    object \n",
      " 11  guardian     374 non-null    object \n",
      " 12  travel_time  374 non-null    float64\n",
      " 13  study_time   374 non-null    float64\n",
      " 14  failures     374 non-null    float64\n",
      " 15  school_sup   374 non-null    object \n",
      " 16  fam_sup      374 non-null    object \n",
      " 17  paid         374 non-null    object \n",
      " 18  activities   374 non-null    object \n",
      " 19  nursery      374 non-null    object \n",
      " 20  higher       374 non-null    object \n",
      " 21  internet     374 non-null    object \n",
      " 22  romantic     374 non-null    object \n",
      " 23  fam_rel      374 non-null    float64\n",
      " 24  free_time    374 non-null    float64\n",
      " 25  goout        374 non-null    float64\n",
      " 26  health       374 non-null    float64\n",
      " 27  absences     362 non-null    float64\n",
      " 28  score        368 non-null    float64\n",
      "dtypes: float64(11), int64(1), object(17)\n",
      "memory usage: 87.7+ KB\n"
     ]
    }
   ],
   "source": [
    "# как указывал ранее для устранения выбросов удаляю 21 строку в столбце 'absences':\n",
    "\n",
    "list_to_drop = (stud[stud.absences >= 20].index) # определяем индексы удаляемых строк\n",
    "stud.drop(list_to_drop, inplace = True)\n",
    "stud.info()"
   ]
  },
  {
   "cell_type": "code",
   "execution_count": 65,
   "metadata": {},
   "outputs": [],
   "source": [
    "# пропуски (nan) в колонках 'absences' и 'score' меняю на соответствующие моды:\n",
    "import pandas as pd\n",
    "\n",
    "stud['absences'] = stud['absences'].apply(lambda x: stud.absences.mode()\n",
    "                                  if pd.isna(x) else x)\n",
    "\n",
    "stud['score'] = stud['score'].apply(lambda x: stud.score.mode()\n",
    "                                  if pd.isna(x) else x)"
   ]
  },
  {
   "cell_type": "code",
   "execution_count": 66,
   "metadata": {},
   "outputs": [
    {
     "name": "stdout",
     "output_type": "stream",
     "text": [
      "<class 'pandas.core.frame.DataFrame'>\n",
      "Int64Index: 374 entries, 0 to 394\n",
      "Data columns (total 29 columns):\n",
      " #   Column       Non-Null Count  Dtype  \n",
      "---  ------       --------------  -----  \n",
      " 0   school       374 non-null    object \n",
      " 1   sex          374 non-null    object \n",
      " 2   age          374 non-null    int64  \n",
      " 3   address      374 non-null    object \n",
      " 4   fam_size     374 non-null    object \n",
      " 5   p_status     374 non-null    object \n",
      " 6   mom_edu      374 non-null    float64\n",
      " 7   dad_edu      374 non-null    float64\n",
      " 8   mom_job      374 non-null    object \n",
      " 9   dad_job      374 non-null    object \n",
      " 10  reason       374 non-null    object \n",
      " 11  guardian     374 non-null    object \n",
      " 12  travel_time  374 non-null    float64\n",
      " 13  study_time   374 non-null    float64\n",
      " 14  failures     374 non-null    float64\n",
      " 15  school_sup   374 non-null    object \n",
      " 16  fam_sup      374 non-null    object \n",
      " 17  paid         374 non-null    object \n",
      " 18  activities   374 non-null    object \n",
      " 19  nursery      374 non-null    object \n",
      " 20  higher       374 non-null    object \n",
      " 21  internet     374 non-null    object \n",
      " 22  romantic     374 non-null    object \n",
      " 23  fam_rel      374 non-null    float64\n",
      " 24  free_time    374 non-null    float64\n",
      " 25  goout        374 non-null    float64\n",
      " 26  health       374 non-null    float64\n",
      " 27  absences     374 non-null    float64\n",
      " 28  score        374 non-null    float64\n",
      "dtypes: float64(11), int64(1), object(17)\n",
      "memory usage: 87.7+ KB\n"
     ]
    }
   ],
   "source": [
    "# пропуски (nan) в нашем датасете теперь отсутствуют, необходимо привести в порядок типы данных для количественных и\n",
    "# номинативных данных, для чего приведу датасет к следующей структуре данных, которая и была задана изначально:\n",
    "\n",
    "# 1) номинативные нечисловые столбцы, всего 17 из 29:\n",
    "# 'school', 'sex', 'address', 'fam_size', 'p_status', \n",
    "# 'mom_job', 'dad_job', 'reason', 'guardian', 'school_sup',\n",
    "# 'fam_sup', 'paid', 'activities', 'nursery', 'higher', \n",
    "# 'internet', 'romantic'\n",
    "\n",
    "# 2) номинативные числовые столбцы, всего 10 из 29:\n",
    "# 'age', mom_edu', 'dad_edu', 'travel_time', 'study_time', \n",
    "# 'failures', 'fam_rel', 'free_time', 'goout', 'health'\n",
    "\n",
    "# 3) количественные числовые столбцы, всего 2 из 29:\n",
    "# 'absences', 'score'\n",
    "\n",
    "# применяю следующие коды для строк столбцов 'absences', 'score': \n",
    "\n",
    "stud['absences'] = stud['absences'].apply(lambda x: float(x))\n",
    "stud['score'] = stud['score'].apply(lambda x: float(x))\n",
    "\n",
    "stud.info()"
   ]
  },
  {
   "cell_type": "code",
   "execution_count": null,
   "metadata": {},
   "outputs": [],
   "source": [
    "Далее выполняю пункт 5 и 6 проекта:\n",
    "\n",
    "Корреляционный анализ\n",
    "Выясним, данные каких числовых столбцов коррелируют со столбцом 'score', Для быстрого построения графиков \n",
    "зависимости переменных использую функцию pairplot из модуля seaborn:"
   ]
  },
  {
   "cell_type": "code",
   "execution_count": 67,
   "metadata": {},
   "outputs": [
    {
     "data": {
      "text/plain": [
       "<seaborn.axisgrid.PairGrid at 0x7fca9eda5d90>"
      ]
     },
     "execution_count": 67,
     "metadata": {},
     "output_type": "execute_result"
    },
    {
     "data": {
      "image/png": "[encoded data removed]",
      "text/plain": [
       "<Figure size 2160x2160 with 156 Axes>"
      ]
     },
     "metadata": {
      "needs_background": "light"
     },
     "output_type": "display_data"
    }
   ],
   "source": [
    "import seaborn as sns\n",
    "sns.pairplot(stud, kind = 'reg')"
   ]
  },
  {
   "cell_type": "code",
   "execution_count": 68,
   "metadata": {},
   "outputs": [
    {
     "data": {
      "text/html": [
       "<div>\n",
       "<style scoped>\n",
       "    .dataframe tbody tr th:only-of-type {\n",
       "        vertical-align: middle;\n",
       "    }\n",
       "\n",
       "    .dataframe tbody tr th {\n",
       "        vertical-align: top;\n",
       "    }\n",
       "\n",
       "    .dataframe thead th {\n",
       "        text-align: right;\n",
       "    }\n",
       "</style>\n",
       "<table border=\"1\" class=\"dataframe\">\n",
       "  <thead>\n",
       "    <tr style=\"text-align: right;\">\n",
       "      <th></th>\n",
       "      <th>age</th>\n",
       "      <th>mom_edu</th>\n",
       "      <th>dad_edu</th>\n",
       "      <th>travel_time</th>\n",
       "      <th>study_time</th>\n",
       "      <th>failures</th>\n",
       "      <th>fam_rel</th>\n",
       "      <th>free_time</th>\n",
       "      <th>goout</th>\n",
       "      <th>health</th>\n",
       "      <th>absences</th>\n",
       "      <th>score</th>\n",
       "    </tr>\n",
       "  </thead>\n",
       "  <tbody>\n",
       "    <tr>\n",
       "      <th>age</th>\n",
       "      <td>1.000000</td>\n",
       "      <td>-0.175122</td>\n",
       "      <td>-0.157604</td>\n",
       "      <td>0.028880</td>\n",
       "      <td>-0.001089</td>\n",
       "      <td>0.153846</td>\n",
       "      <td>0.037555</td>\n",
       "      <td>0.057811</td>\n",
       "      <td>0.148612</td>\n",
       "      <td>-0.051259</td>\n",
       "      <td>0.120090</td>\n",
       "      <td>-0.168597</td>\n",
       "    </tr>\n",
       "    <tr>\n",
       "      <th>mom_edu</th>\n",
       "      <td>-0.175122</td>\n",
       "      <td>1.000000</td>\n",
       "      <td>0.563314</td>\n",
       "      <td>-0.132185</td>\n",
       "      <td>0.093618</td>\n",
       "      <td>-0.193579</td>\n",
       "      <td>-0.035272</td>\n",
       "      <td>0.006235</td>\n",
       "      <td>0.064346</td>\n",
       "      <td>0.003349</td>\n",
       "      <td>0.095309</td>\n",
       "      <td>0.229089</td>\n",
       "    </tr>\n",
       "    <tr>\n",
       "      <th>dad_edu</th>\n",
       "      <td>-0.157604</td>\n",
       "      <td>0.563314</td>\n",
       "      <td>1.000000</td>\n",
       "      <td>-0.098299</td>\n",
       "      <td>-0.020849</td>\n",
       "      <td>-0.222740</td>\n",
       "      <td>-0.008764</td>\n",
       "      <td>-0.019810</td>\n",
       "      <td>0.056877</td>\n",
       "      <td>0.040349</td>\n",
       "      <td>-0.032870</td>\n",
       "      <td>0.154047</td>\n",
       "    </tr>\n",
       "    <tr>\n",
       "      <th>travel_time</th>\n",
       "      <td>0.028880</td>\n",
       "      <td>-0.132185</td>\n",
       "      <td>-0.098299</td>\n",
       "      <td>1.000000</td>\n",
       "      <td>-0.095657</td>\n",
       "      <td>0.093247</td>\n",
       "      <td>0.033107</td>\n",
       "      <td>0.018067</td>\n",
       "      <td>0.001884</td>\n",
       "      <td>0.001273</td>\n",
       "      <td>-0.053142</td>\n",
       "      <td>-0.108996</td>\n",
       "    </tr>\n",
       "    <tr>\n",
       "      <th>study_time</th>\n",
       "      <td>-0.001089</td>\n",
       "      <td>0.093618</td>\n",
       "      <td>-0.020849</td>\n",
       "      <td>-0.095657</td>\n",
       "      <td>1.000000</td>\n",
       "      <td>-0.156356</td>\n",
       "      <td>0.047060</td>\n",
       "      <td>-0.135499</td>\n",
       "      <td>-0.047284</td>\n",
       "      <td>-0.063645</td>\n",
       "      <td>-0.051659</td>\n",
       "      <td>0.107089</td>\n",
       "    </tr>\n",
       "    <tr>\n",
       "      <th>failures</th>\n",
       "      <td>0.153846</td>\n",
       "      <td>-0.193579</td>\n",
       "      <td>-0.222740</td>\n",
       "      <td>0.093247</td>\n",
       "      <td>-0.156356</td>\n",
       "      <td>1.000000</td>\n",
       "      <td>-0.000175</td>\n",
       "      <td>0.081916</td>\n",
       "      <td>0.101280</td>\n",
       "      <td>0.062087</td>\n",
       "      <td>0.038278</td>\n",
       "      <td>-0.268652</td>\n",
       "    </tr>\n",
       "    <tr>\n",
       "      <th>fam_rel</th>\n",
       "      <td>0.037555</td>\n",
       "      <td>-0.035272</td>\n",
       "      <td>-0.008764</td>\n",
       "      <td>0.033107</td>\n",
       "      <td>0.047060</td>\n",
       "      <td>-0.000175</td>\n",
       "      <td>1.000000</td>\n",
       "      <td>0.133889</td>\n",
       "      <td>0.055114</td>\n",
       "      <td>0.073775</td>\n",
       "      <td>-0.111597</td>\n",
       "      <td>0.064807</td>\n",
       "    </tr>\n",
       "    <tr>\n",
       "      <th>free_time</th>\n",
       "      <td>0.057811</td>\n",
       "      <td>0.006235</td>\n",
       "      <td>-0.019810</td>\n",
       "      <td>0.018067</td>\n",
       "      <td>-0.135499</td>\n",
       "      <td>0.081916</td>\n",
       "      <td>0.133889</td>\n",
       "      <td>1.000000</td>\n",
       "      <td>0.272281</td>\n",
       "      <td>0.056795</td>\n",
       "      <td>0.090759</td>\n",
       "      <td>0.018010</td>\n",
       "    </tr>\n",
       "    <tr>\n",
       "      <th>goout</th>\n",
       "      <td>0.148612</td>\n",
       "      <td>0.064346</td>\n",
       "      <td>0.056877</td>\n",
       "      <td>0.001884</td>\n",
       "      <td>-0.047284</td>\n",
       "      <td>0.101280</td>\n",
       "      <td>0.055114</td>\n",
       "      <td>0.272281</td>\n",
       "      <td>1.000000</td>\n",
       "      <td>-0.017786</td>\n",
       "      <td>0.110503</td>\n",
       "      <td>-0.102706</td>\n",
       "    </tr>\n",
       "    <tr>\n",
       "      <th>health</th>\n",
       "      <td>-0.051259</td>\n",
       "      <td>0.003349</td>\n",
       "      <td>0.040349</td>\n",
       "      <td>0.001273</td>\n",
       "      <td>-0.063645</td>\n",
       "      <td>0.062087</td>\n",
       "      <td>0.073775</td>\n",
       "      <td>0.056795</td>\n",
       "      <td>-0.017786</td>\n",
       "      <td>1.000000</td>\n",
       "      <td>-0.019438</td>\n",
       "      <td>-0.063665</td>\n",
       "    </tr>\n",
       "    <tr>\n",
       "      <th>absences</th>\n",
       "      <td>0.120090</td>\n",
       "      <td>0.095309</td>\n",
       "      <td>-0.032870</td>\n",
       "      <td>-0.053142</td>\n",
       "      <td>-0.051659</td>\n",
       "      <td>0.038278</td>\n",
       "      <td>-0.111597</td>\n",
       "      <td>0.090759</td>\n",
       "      <td>0.110503</td>\n",
       "      <td>-0.019438</td>\n",
       "      <td>1.000000</td>\n",
       "      <td>0.065333</td>\n",
       "    </tr>\n",
       "    <tr>\n",
       "      <th>score</th>\n",
       "      <td>-0.168597</td>\n",
       "      <td>0.229089</td>\n",
       "      <td>0.154047</td>\n",
       "      <td>-0.108996</td>\n",
       "      <td>0.107089</td>\n",
       "      <td>-0.268652</td>\n",
       "      <td>0.064807</td>\n",
       "      <td>0.018010</td>\n",
       "      <td>-0.102706</td>\n",
       "      <td>-0.063665</td>\n",
       "      <td>0.065333</td>\n",
       "      <td>1.000000</td>\n",
       "    </tr>\n",
       "  </tbody>\n",
       "</table>\n",
       "</div>"
      ],
      "text/plain": [
       "                  age   mom_edu   dad_edu  travel_time  study_time  failures  \\\n",
       "age          1.000000 -0.175122 -0.157604     0.028880   -0.001089  0.153846   \n",
       "mom_edu     -0.175122  1.000000  0.563314    -0.132185    0.093618 -0.193579   \n",
       "dad_edu     -0.157604  0.563314  1.000000    -0.098299   -0.020849 -0.222740   \n",
       "travel_time  0.028880 -0.132185 -0.098299     1.000000   -0.095657  0.093247   \n",
       "study_time  -0.001089  0.093618 -0.020849    -0.095657    1.000000 -0.156356   \n",
       "failures     0.153846 -0.193579 -0.222740     0.093247   -0.156356  1.000000   \n",
       "fam_rel      0.037555 -0.035272 -0.008764     0.033107    0.047060 -0.000175   \n",
       "free_time    0.057811  0.006235 -0.019810     0.018067   -0.135499  0.081916   \n",
       "goout        0.148612  0.064346  0.056877     0.001884   -0.047284  0.101280   \n",
       "health      -0.051259  0.003349  0.040349     0.001273   -0.063645  0.062087   \n",
       "absences     0.120090  0.095309 -0.032870    -0.053142   -0.051659  0.038278   \n",
       "score       -0.168597  0.229089  0.154047    -0.108996    0.107089 -0.268652   \n",
       "\n",
       "              fam_rel  free_time     goout    health  absences     score  \n",
       "age          0.037555   0.057811  0.148612 -0.051259  0.120090 -0.168597  \n",
       "mom_edu     -0.035272   0.006235  0.064346  0.003349  0.095309  0.229089  \n",
       "dad_edu     -0.008764  -0.019810  0.056877  0.040349 -0.032870  0.154047  \n",
       "travel_time  0.033107   0.018067  0.001884  0.001273 -0.053142 -0.108996  \n",
       "study_time   0.047060  -0.135499 -0.047284 -0.063645 -0.051659  0.107089  \n",
       "failures    -0.000175   0.081916  0.101280  0.062087  0.038278 -0.268652  \n",
       "fam_rel      1.000000   0.133889  0.055114  0.073775 -0.111597  0.064807  \n",
       "free_time    0.133889   1.000000  0.272281  0.056795  0.090759  0.018010  \n",
       "goout        0.055114   0.272281  1.000000 -0.017786  0.110503 -0.102706  \n",
       "health       0.073775   0.056795 -0.017786  1.000000 -0.019438 -0.063665  \n",
       "absences    -0.111597   0.090759  0.110503 -0.019438  1.000000  0.065333  \n",
       "score        0.064807   0.018010 -0.102706 -0.063665  0.065333  1.000000  "
      ]
     },
     "execution_count": 68,
     "metadata": {},
     "output_type": "execute_result"
    }
   ],
   "source": [
    "# Используем для наглядности матрицу корреляций:\n",
    "stud.corr()"
   ]
  },
  {
   "cell_type": "code",
   "execution_count": null,
   "metadata": {},
   "outputs": [],
   "source": [
    "Выводы: Так как корреляция между переменными, значение которой по модулю близкое к 1, не обнаружена, следовательно\n",
    "логично сохранить все 12 переменных в датасете как значимые для будущей модели."
   ]
  },
  {
   "cell_type": "code",
   "execution_count": null,
   "metadata": {},
   "outputs": [],
   "source": [
    "Далее выполняю пункт 7 проекта:\n",
    "    \n",
    "Проведу анализ номинативных нечисловых переменных с данными столбца 'score' следующих столбцов:\n",
    "'school', 'sex', 'address', 'fam_size', 'p_status', \n",
    "'mom_job', 'dad_job', 'reason', 'guardian', 'school_sup',\n",
    "'fam_sup', 'paid', 'activities', 'nursery', 'higher', \n",
    "'internet', 'romantic'   \n",
    "Очевидно, что для номинативных нечисловых переменных использовать корреляционный анализ не получится. \n",
    "Поэтому рассмотрим, различаются ли распределения оценок на экзамене по матиматике в зависимости от значений\n",
    "этих переменных. Для чего используем box-plot и следующую подготовленную функцию get_boxplot(column):"
   ]
  },
  {
   "cell_type": "code",
   "execution_count": 69,
   "metadata": {},
   "outputs": [
    {
     "data": {
      "image/png": "[encoded data removed]",
      "text/plain": [
       "<Figure size 1008x216 with 1 Axes>"
      ]
     },
     "metadata": {
      "needs_background": "light"
     },
     "output_type": "display_data"
    },
    {
     "data": {
      "image/png": "[encoded data removed]",
      "text/plain": [
       "<Figure size 1008x216 with 1 Axes>"
      ]
     },
     "metadata": {
      "needs_background": "light"
     },
     "output_type": "display_data"
    },
    {
     "data": {
      "image/png": "[encoded data removed]",
      "text/plain": [
       "<Figure size 1008x216 with 1 Axes>"
      ]
     },
     "metadata": {
      "needs_background": "light"
     },
     "output_type": "display_data"
    },
    {
     "data": {
      "image/png": "[encoded data removed]",
      "text/plain": [
       "<Figure size 1008x216 with 1 Axes>"
      ]
     },
     "metadata": {
      "needs_background": "light"
     },
     "output_type": "display_data"
    },
    {
     "data": {
      "image/png": "[encoded data removed]",
      "text/plain": [
       "<Figure size 1008x216 with 1 Axes>"
      ]
     },
     "metadata": {
      "needs_background": "light"
     },
     "output_type": "display_data"
    },
    {
     "data": {
      "image/png": "[encoded data removed]",
      "text/plain": [
       "<Figure size 1008x216 with 1 Axes>"
      ]
     },
     "metadata": {
      "needs_background": "light"
     },
     "output_type": "display_data"
    },
    {
     "data": {
      "image/png": "[encoded data removed]",
      "text/plain": [
       "<Figure size 1008x216 with 1 Axes>"
      ]
     },
     "metadata": {
      "needs_background": "light"
     },
     "output_type": "display_data"
    },
    {
     "data": {
      "image/png": "[encoded data removed]",
      "text/plain": [
       "<Figure size 1008x216 with 1 Axes>"
      ]
     },
     "metadata": {
      "needs_background": "light"
     },
     "output_type": "display_data"
    },
    {
     "data": {
      "image/png": "[encoded data removed]",
      "text/plain": [
       "<Figure size 1008x216 with 1 Axes>"
      ]
     },
     "metadata": {
      "needs_background": "light"
     },
     "output_type": "display_data"
    },
    {
     "data": {
      "image/png": "[encoded data removed]",
      "text/plain": [
       "<Figure size 1008x216 with 1 Axes>"
      ]
     },
     "metadata": {
      "needs_background": "light"
     },
     "output_type": "display_data"
    },
    {
     "data": {
      "image/png": "[encoded data removed]",
      "text/plain": [
       "<Figure size 1008x216 with 1 Axes>"
      ]
     },
     "metadata": {
      "needs_background": "light"
     },
     "output_type": "display_data"
    },
    {
     "data": {
      "image/png": "[encoded data removed]",
      "text/plain": [
       "<Figure size 1008x216 with 1 Axes>"
      ]
     },
     "metadata": {
      "needs_background": "light"
     },
     "output_type": "display_data"
    },
    {
     "data": {
      "image/png": "[encoded data removed]",
      "text/plain": [
       "<Figure size 1008x216 with 1 Axes>"
      ]
     },
     "metadata": {
      "needs_background": "light"
     },
     "output_type": "display_data"
    },
    {
     "data": {
      "image/png": "[encoded data removed]",
      "text/plain": [
       "<Figure size 1008x216 with 1 Axes>"
      ]
     },
     "metadata": {
      "needs_background": "light"
     },
     "output_type": "display_data"
    },
    {
     "data": {
      "image/png": "[encoded data removed]",
      "text/plain": [
       "<Figure size 1008x216 with 1 Axes>"
      ]
     },
     "metadata": {
      "needs_background": "light"
     },
     "output_type": "display_data"
    },
    {
     "data": {
      "image/png": "[encoded data removed]",
      "text/plain": [
       "<Figure size 1008x216 with 1 Axes>"
      ]
     },
     "metadata": {
      "needs_background": "light"
     },
     "output_type": "display_data"
    },
    {
     "data": {
      "image/png": "[encoded data removed]",
      "text/plain": [
       "<Figure size 1008x216 with 1 Axes>"
      ]
     },
     "metadata": {
      "needs_background": "light"
     },
     "output_type": "display_data"
    }
   ],
   "source": [
    "import matplotlib.pyplot as plt\n",
    "import seaborn as sns\n",
    "\n",
    "def get_boxplot(column):\n",
    "    fig, ax = plt.subplots(figsize = (14, 3))\n",
    "    ax.set_title('Boxplot for ' + column)\n",
    "    sns.boxplot(x = column, y = 'score', data = stud)\n",
    "    plt.show()\n",
    "    \n",
    "for col in ['school', 'sex', 'address', 'fam_size', 'p_status', \n",
    "            'mom_job', 'dad_job', 'reason', 'guardian', 'school_sup',\n",
    "            'fam_sup', 'paid', 'activities', 'nursery', 'higher', \n",
    "            'internet', 'romantic']:\n",
    "    get_boxplot(col)"
   ]
  },
  {
   "cell_type": "code",
   "execution_count": null,
   "metadata": {},
   "outputs": [],
   "source": [
    "Представленные выше графики показывают, что практически все параметры, могут влиять на полученный учащимися балл по \n",
    "госэкзамену по матиматике. \n",
    "Так как графики являются лишь вспомогательным инструментом, настоящую значимость различий может помочь \n",
    "распознать статистика. Проверим, есть ли статистическая разница в распределении оценок по номинативным признакам, \n",
    "с помощью теста Стьюдента. \n",
    "Проверю нулевую гипотезу о том, что распределения баллов на экзамене по различным параметрам неразличимы,\n",
    "использую следующую подготовленную функцию get_stat_dif(column):"
   ]
  },
  {
   "cell_type": "code",
   "execution_count": 122,
   "metadata": {},
   "outputs": [
    {
     "name": "stdout",
     "output_type": "stream",
     "text": [
      "Найдены статистически значимые различия для колонки sex\n",
      "Найдены статистически значимые различия для колонки mom_job\n",
      "Найдены статистически значимые различия для колонки higher\n",
      "Найдены статистически значимые различия для колонки romantic\n"
     ]
    }
   ],
   "source": [
    "from itertools import combinations\n",
    "\n",
    "def get_stat_dif(column):\n",
    "    cols = stud[column].unique()\n",
    "    combinations_all = list(combinations(cols, 2))\n",
    "    for comb in combinations_all:\n",
    "        if ttest_ind(stud.loc[stud.loc[:, column] == comb[0], 'score'], \n",
    "                        stud.loc[stud.loc[:, column] == comb[1], 'score']).pvalue \\\n",
    "            <= 0.05/len(combinations_all): # Учли поправку Бонферони\n",
    "            print('Найдены статистически значимые различия для колонки', column)\n",
    "            break\n",
    "            \n",
    "for col in ['school', 'sex', 'address', 'fam_size', 'p_status', \n",
    "            'mom_job', 'dad_job', 'reason', 'guardian', 'school_sup',\n",
    "            'fam_sup', 'paid', 'activities', 'nursery', 'higher', \n",
    "            'internet', 'romantic']:\n",
    "    get_stat_dif(col)            "
   ]
  },
  {
   "cell_type": "code",
   "execution_count": 6,
   "metadata": {},
   "outputs": [],
   "source": [
    "Результат проверки выше показал, что из 17 номинативных нечисловых столбцов серьёзно отличаются только \n",
    "следующие четыре:\n",
    "'sex', 'mom_job', 'higher', 'romantic'\n",
    "Оставим эти переменные в датасете для дальнейшего построения модели. "
   ]
  },
  {
   "cell_type": "code",
   "execution_count": null,
   "metadata": {},
   "outputs": [],
   "source": [
    "Таким образом в нашем случае важные переменные, которые, возможно, оказывают влияние на оценку учащегося\n",
    "по матиматике содержатся в следующих 16 столбцах: \n",
    "\n",
    "1) номинативные нечисловые (4 столбца):\n",
    "'sex', 'mom_job', 'higher', 'romantic'\n",
    "\n",
    "2) номинативные числовые (10 столбцов):\n",
    "'age', 'mom_edu', 'dad_edu','travel_time', 'study_time', \n",
    "'failures', 'fam_rel', 'free_time', 'goout', 'health'\n",
    "\n",
    "3) количественные числовые (2 столбца):\n",
    " 'absences', 'score'"
   ]
  },
  {
   "cell_type": "code",
   "execution_count": 123,
   "metadata": {},
   "outputs": [
    {
     "name": "stdout",
     "output_type": "stream",
     "text": [
      "<class 'pandas.core.frame.DataFrame'>\n",
      "Int64Index: 374 entries, 0 to 394\n",
      "Data columns (total 16 columns):\n",
      " #   Column       Non-Null Count  Dtype  \n",
      "---  ------       --------------  -----  \n",
      " 0   sex          374 non-null    object \n",
      " 1   age          374 non-null    int64  \n",
      " 2   mom_edu      374 non-null    float64\n",
      " 3   dad_edu      374 non-null    float64\n",
      " 4   mom_job      374 non-null    object \n",
      " 5   travel_time  374 non-null    float64\n",
      " 6   study_time   374 non-null    float64\n",
      " 7   failures     374 non-null    float64\n",
      " 8   higher       374 non-null    object \n",
      " 9   romantic     374 non-null    object \n",
      " 10  fam_rel      374 non-null    float64\n",
      " 11  free_time    374 non-null    float64\n",
      " 12  goout        374 non-null    float64\n",
      " 13  health       374 non-null    float64\n",
      " 14  absences     374 non-null    float64\n",
      " 15  score        374 non-null    float64\n",
      "dtypes: float64(11), int64(1), object(4)\n",
      "memory usage: 59.7+ KB\n"
     ]
    }
   ],
   "source": [
    "stud_for_model = stud.loc[:, ['sex', 'age', 'mom_edu', 'dad_edu', 'mom_job', 'travel_time', 'study_time', 'failures',\n",
    "                              'higher', 'romantic', 'fam_rel','free_time', 'goout', 'health', 'absences', 'score']]\n",
    "\n",
    "stud_for_model.info()"
   ]
  },
  {
   "cell_type": "code",
   "execution_count": null,
   "metadata": {},
   "outputs": [],
   "source": [
    "8. Выводы\n",
    "\n",
    "В результате EDA датасета и анализа влияния номинативных нечисловых и числовых переменных параметров на итоги \n",
    "учащихся по госэкзамену по матиматике, были получены следующие выводы:\n",
    "\n",
    "- Данные в исходном датасете содержали допустимое - около 15%, пустых значений и несколько ошибок ввода, что \n",
    "позволило без особых усилий и ухудшения качества данных в датасете заполнить пропуски, исправить ошибки ввода, \n",
    "а также привести данные к их логичному формату.\n",
    "- Выбросы были найдены только в столбце 'absences' - количество пропущенных занятий, принято решение, удалить \n",
    "21 строку данных этого столбца. \n",
    "- Корреляционный анализ данных числовых столбцов и статистический анализ нечисловых переменных с использованием \n",
    "теста Стьюдента позволил отфильтровать вероятностно значимые столбцы и строки датасета для дальнейшего построения \n",
    "модели. \n",
    "- Получен более компактный рабочий датасет: stud_for_model, \n",
    "который состоит из 16 столбцов вместо изначальных 30 и 374 строк вместо изначальных 395, производный датасет очищен\n",
    "от всех перечисленных ранее недостатков исходника и может быть использован для дальнейшего моделирования,\n",
    "и достижения целей проекта UNICEF в соответствии с исполненными задачами этого проекта."
   ]
  },
  {
   "cell_type": "code",
   "execution_count": null,
   "metadata": {},
   "outputs": [],
   "source": []
  },
  {
   "cell_type": "code",
   "execution_count": null,
   "metadata": {},
   "outputs": [],
   "source": []
  },
  {
   "cell_type": "code",
   "execution_count": null,
   "metadata": {},
   "outputs": [],
   "source": []
  },
  {
   "cell_type": "code",
   "execution_count": null,
   "metadata": {},
   "outputs": [],
   "source": []
  },
  {
   "cell_type": "code",
   "execution_count": null,
   "metadata": {},
   "outputs": [],
   "source": []
  },
  {
   "cell_type": "code",
   "execution_count": null,
   "metadata": {},
   "outputs": [],
   "source": []
  }
 ],
 "metadata": {
  "kernelspec": {
   "display_name": "Python 3",
   "language": "python",
   "name": "python3"
  },
  "language_info": {
   "codemirror_mode": {
    "name": "ipython",
    "version": 3
   },
   "file_extension": ".py",
   "mimetype": "text/x-python",
   "name": "python",
   "nbconvert_exporter": "python",
   "pygments_lexer": "ipython3",
   "version": "3.8.5"
  }
 },
 "nbformat": 4,
 "nbformat_minor": 4
}
